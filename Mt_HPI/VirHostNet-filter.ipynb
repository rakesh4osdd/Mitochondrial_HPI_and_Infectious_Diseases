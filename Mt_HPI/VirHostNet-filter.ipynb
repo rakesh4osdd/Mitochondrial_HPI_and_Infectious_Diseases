{
 "cells": [
  {
   "cell_type": "code",
   "execution_count": 1,
   "metadata": {},
   "outputs": [],
   "source": [
    "# #This  program is created by rakesh from crddmirror system on Tue 01 Dec 2020 11:22:29 PM IST.\n",
    "#License: Attribution-NonCommercial-ShareAlike 4.0 International. For feedback, please email at rakesh4osdd@gmail.com\n",
    "# check for updated code jupyter file name 'virhostnet' in MITAB 2.5 format\n",
    "import csv\n",
    "import re\n",
    "import fileinput"
   ]
  },
  {
   "cell_type": "code",
   "execution_count": 2,
   "metadata": {},
   "outputs": [],
   "source": [
    "# define input and output file with taxid mapping file\n",
    "input1='virhostnet-query.txt'\n",
    "output1='hpi-'+input1\n",
    "both2='both-'+input1\n",
    "pathogen3='pathogen-'+input1\n",
    "mapping_taxid='map-taxid-246-pathogen.virus-virhostnet.tsv'"
   ]
  },
  {
   "cell_type": "code",
   "execution_count": 3,
   "metadata": {},
   "outputs": [
    {
     "data": {
      "text/plain": [
       "47"
      ]
     },
     "execution_count": 3,
     "metadata": {},
     "output_type": "execute_result"
    }
   ],
   "source": [
    "# set output file for writing\n",
    "#fieldnames = [ 'SN', 'protein1', 'protein2', 'host', 'partner']\n",
    "fieldnames = [ 'host_protein1', 'pathogen_protein2', 'host', 'pathogen']\n",
    "csvfile1=open(output1, 'w', newline='')\n",
    "#fieldnames = ['SN', 'protein1', 'protein2', 'host', 'partner']\n",
    "output = csv.DictWriter(csvfile1,fieldnames=fieldnames, delimiter='\\t')\n",
    "output.writeheader()\n",
    "\n",
    "csvfile2=open(both2, 'w', newline='')\n",
    "#fieldnames = ['SN', 'protein1', 'protein2', 'host', 'partner']\n",
    "both = csv.DictWriter(csvfile2,fieldnames=fieldnames, delimiter='\\t')\n",
    "both.writeheader()\n",
    "\n",
    "csvfile3=open(pathogen3, 'w', newline='')\n",
    "#fieldnames = ['SN', 'protein1', 'protein2', 'host', 'partner']\n",
    "path = csv.DictWriter(csvfile3,fieldnames=fieldnames, delimiter='\\t')\n",
    "path.writeheader()\n",
    "#path.writerow({'SN': '1', 'protein1': 'protein1', 'protein2': 'protein2' , 'host': 'host', 'partner': 'partner2'})"
   ]
  },
  {
   "cell_type": "code",
   "execution_count": 4,
   "metadata": {},
   "outputs": [],
   "source": [
    "def update_taxid(path_taxid):\n",
    "    with fileinput.input(mapping_taxid) as f:\n",
    "        for line in f:\n",
    "            #print (line[:-2])\n",
    "            #for line in fileinput.input(files='map2', inplace=False, mode='r'):\n",
    "            taxid=line.split('\\t')\n",
    "            #print(taxid[0] ,taxid[1][:-2])\n",
    "            #line = re.sub( taxid[0] ,taxid[1], line.rstrip())\n",
    "            if re.search( rf'\\b{taxid[0]}\\b', path_taxid):\n",
    "                new_taxid = re.sub( rf'\\b{taxid[0]}\\b' ,taxid[1], path_taxid)\n",
    "                return str(new_taxid[:-2])\n",
    "#update_taxid('taxid:694009')"
   ]
  },
  {
   "cell_type": "code",
   "execution_count": 47,
   "metadata": {},
   "outputs": [],
   "source": [
    "\"\"\"def update_taxid(path_taxid):\n",
    "    with fileinput.input(mapping_taxid) as f:\n",
    "        for line in f:\n",
    "            #print (line[:-2])\n",
    "            #for line in fileinput.input(files='map2', inplace=False, mode='r'):\n",
    "            taxid=line.split('\\t')\n",
    "            #print(taxid[0] ,taxid[1][:-2])\n",
    "            #line = re.sub( taxid[0] ,taxid[1], line.rstrip())\n",
    "            if re.search( taxid[0], path_taxid):\n",
    "                new_taxid = re.sub( taxid[0] ,taxid[1], path_taxid)\n",
    "                return str(new_taxid[:-2])\n",
    "    #fileinput.nextfile()\n",
    "    #fileinput.close()\n",
    "#update_taxid('taxid:694009')\"\"\""
   ]
  },
  {
   "cell_type": "code",
   "execution_count": 5,
   "metadata": {},
   "outputs": [],
   "source": [
    "# code for filter MI-TAB 2.5 file\n",
    "with open(input1) as csvfile:\n",
    "    hpi = csv.reader(csvfile, delimiter='\\t')\n",
    "    #next(hpi, None)  # skip the headers\n",
    "    for i, row in enumerate(hpi):\n",
    "        if i >= 0:\n",
    "            #remove PRO and extract ':' saparated id\n",
    "            row[0]=row[0].split('-PRO_')[0].split(':')[1]\n",
    "            row[1]=row[1].split('-PRO_')[0].split(':')[1]\n",
    "            protein1=row[0]\n",
    "            protein2=row[1]\n",
    "            # search for homo sapiens 9606\n",
    "            pattern1=r'\\b9606\\b.*'\n",
    "            # search for pair\n",
    "            pattern2= r\"\\b9606\\b[^:].*\\b9606\\b.*\"\n",
    "            #print(row[2]+row[3])\n",
    "            string=row[9]+'\\t'+row[10]\n",
    "            host=row[9]\n",
    "            pathogen=row[10]\n",
    "            #print(row[0], row[1], row[9],update_taxid(row[10]))\n",
    "            if re.search(pattern2, string):\n",
    "                partner2=pathogen\n",
    "                #both.writerow({'SN': i, 'host_protein1': protein1, 'pathogen_protein2': protein2 , 'host': host, 'pathogen': partner2})\n",
    "                both.writerow({'host_protein1': protein1, 'pathogen_protein2': protein2 , 'host': host, 'pathogen': partner2})\n",
    "            elif re.search(pattern1, host):\n",
    "                # for homogenious hame of host\n",
    "                host='taxid:9606(Homo sapiens)'\n",
    "                partner2= update_taxid(pathogen)\n",
    "                #output.writerow({'SN': i, 'host_protein1': protein1, 'pathogen_protein2': protein2 , 'host': host, 'pathogen': partner2})\n",
    "                output.writerow({'host_protein1': protein1, 'pathogen_protein2': protein2 , 'host': host, 'pathogen': partner2}) \n",
    "            elif re.search(pattern1, pathogen):\n",
    "                #print(row[0], row[1], row[9],row[10])\n",
    "                protein1=row[1] # interchange of protein\n",
    "                protein2=row[0]\n",
    "                #host=row[3]\n",
    "                # for homogenious hame of host\n",
    "                host='taxid:9606(Homo sapiens)'\n",
    "                partner2=update_taxid(row[9])\n",
    "                #output.writerow({'SN': i, 'host_protein1': protein1, 'pathogen_protein2': protein2 , 'host': host, 'pathogen': partner2})\n",
    "                output.writerow({'host_protein1': protein1, 'pathogen_protein2': protein2 , 'host': host, 'pathogen': partner2})\n",
    "            else:\n",
    "                #print(row[0], row[1], row[9],row[10])\n",
    "                partner2=pathogen\n",
    "                path.writerow({'host_protein1': row[0] , 'pathogen_protein2': row[1] , 'host': row[9], 'pathogen': row[10]})\n",
    "                #print(\"No match\",row)\n",
    "\n",
    "csvfile1.flush()\n",
    "csvfile2.flush()\n",
    "csvfile3.flush()"
   ]
  },
  {
   "cell_type": "code",
   "execution_count": 6,
   "metadata": {
    "scrolled": true
   },
   "outputs": [
    {
     "name": "stdout",
     "output_type": "stream",
     "text": [
      "==> hpi-virhostnet-query.txt <==\n",
      "X6RLX0\tNP_803144\ttaxid:9606(Homo sapiens)\ttaxid:41856(Hepatitis C virus genotype 1)\n",
      "X6RLX0\tNP_803144\ttaxid:9606(Homo sapiens)\ttaxid:41856(Hepatitis C virus genotype 1)\n",
      "\n",
      "==> both-virhostnet-query.txt <==\n",
      "Q9Y5Q3\tQ14494\ttaxid:9606\ttaxid:9606\n",
      "Q9Y5Q3\tQ9Y5Q3\ttaxid:9606\ttaxid:9606\n",
      "\n",
      "==> pathogen-virhostnet-query.txt <==\n",
      "V9LLX6\tV9LLX6\ttaxid:295027\ttaxid:295027\n",
      "W5QKJ0\tW5QKQ9\ttaxid:1979162\ttaxid:1979162\n",
      "  33301 hpi-virhostnet-query.txt\n",
      "    159 both-virhostnet-query.txt\n",
      "   5185 pathogen-virhostnet-query.txt\n",
      "  38645 total\n",
      "38642 virhostnet-query.txt\n",
      "30193\n",
      "34307\n"
     ]
    }
   ],
   "source": [
    "# check output files and stats\n",
    "! tail -n2 {output1} {both2} {pathogen3}\n",
    "! wc -l {output1} {both2} {pathogen3} ; wc -l {input1}\n",
    "#! rm {output1} {both2} {pathogen3}\n",
    "! tail -n +2 hpi-{input1} |cut -f1,2|sort -u|wc -l ; \n",
    "! tail -n +2 {input1} |cut -f1,2|sort -u|wc -l"
   ]
  },
  {
   "cell_type": "code",
   "execution_count": 7,
   "metadata": {},
   "outputs": [],
   "source": [
    "csvfile1.close()\n",
    "csvfile2.close()\n",
    "csvfile3.close()"
   ]
  },
  {
   "cell_type": "code",
   "execution_count": 8,
   "metadata": {},
   "outputs": [
    {
     "name": "stdout",
     "output_type": "stream",
     "text": [
      "15157 mnDNA_hpi-virhostnet-query.txt\n",
      "33301 hpi-virhostnet-query.txt\n",
      "==> mnDNA_hpi-virhostnet-query.txt <==\n",
      "host_protein1\tpathogen_protein2\thost\tpathogen\n",
      "Q6P587\tNP_828867\ttaxid:9606(Homo sapiens)\ttaxid:694009(Severe acute respiratory syndrome-related coronavirus)\n",
      "\n",
      "==> hpi-virhostnet-query.txt <==\n",
      "host_protein1\tpathogen_protein2\thost\tpathogen\n",
      "Q6P4E1\tQ32ZE1\ttaxid:9606(Homo sapiens)\ttaxid:64320(Zika virus)\n"
     ]
    }
   ],
   "source": [
    "# check for Mt Protein exist in the hpi-{input1} file using Mt_Proteins_7432_working_uniprot_ids.txt and mt-protein-uniprot.txt\n",
    "! head -n1 hpi-{input1} > mnDNA_hpi-{input1}\n",
    "! grep -a -w -f ../Mt_Proteins_7432_working_uniprot_ids.txt hpi-{input1} >> mnDNA_hpi-{input1}\n",
    "! wc -l mnDNA_hpi-{input1}; wc -l hpi-{input1}\n",
    "! head -n2 mnDNA_hpi-{input1} hpi-{input1}"
   ]
  },
  {
   "cell_type": "code",
   "execution_count": 9,
   "metadata": {},
   "outputs": [
    {
     "name": "stdout",
     "output_type": "stream",
     "text": [
      "['2369', 'host_protein1'] ['751', 'pathogen_protein2'] ['1', 'host'] ['189', 'pathogen'] ['14092', 'host_protein1\\tpathogen_protein2'] ['14092', 'host_protein1\\tpathogen_protein2\\thost\\tpathogen']\n"
     ]
    }
   ],
   "source": [
    "# summay count uniq values in each column of the mt protein HPI file\n",
    "c1 = ! tail -n +2 mnDNA_hpi-{input1}|cut -f1|sort -u|wc -l ; head -n1 mnDNA_hpi-{input1} |cut -f1\n",
    "c2 = ! tail -n +2 mnDNA_hpi-{input1}|cut -f2|sort -u|wc -l ; head -n1 mnDNA_hpi-{input1} |cut -f2\n",
    "c3 = ! tail -n +2 mnDNA_hpi-{input1}|cut -f3|sort -u|wc -l ; head -n1 mnDNA_hpi-{input1} |cut -f3\n",
    "c4 = ! tail -n +2 mnDNA_hpi-{input1}|cut -f4|sort -u|wc -l ; head -n1 mnDNA_hpi-{input1} |cut -f4\n",
    "c12 = ! tail -n +2 mnDNA_hpi-{input1}|cut -f1,2|sort -u|wc -l ; head -n1 mnDNA_hpi-{input1} |cut -f1,2\n",
    "c_all = ! tail -n +2 mnDNA_hpi-{input1}|sort -u|wc -l ; head -n1 mnDNA_hpi-{input1}\n",
    "print (c1,c2,c3,c4,c12, c_all)"
   ]
  },
  {
   "cell_type": "code",
   "execution_count": 10,
   "metadata": {},
   "outputs": [
    {
     "name": "stdout",
     "output_type": "stream",
     "text": [
      "     91 mDNA_hpi-virhostnet-query.txt\n",
      "  15067 nDNA_hpi-virhostnet-query.txt\n",
      "  15158 total\n",
      "15157 mnDNA_hpi-virhostnet-query.txt\n",
      "==> mDNA_hpi-virhostnet-query.txt <==\n",
      "host_protein1\tpathogen_protein2\thost\tpathogen\n",
      "P03905\tP36801\ttaxid:9606(Homo sapiens)\ttaxid:10621(Human papillomavirus 9)\n",
      "P03905\tP36817\ttaxid:9606(Homo sapiens)\ttaxid:10621(Human papillomavirus 9)\n",
      "\n",
      "==> nDNA_hpi-virhostnet-query.txt <==\n",
      "host_protein1\tpathogen_protein2\thost\tpathogen\n",
      "Q6P587\tNP_828867\ttaxid:9606(Homo sapiens)\ttaxid:694009(Severe acute respiratory syndrome-related coronavirus)\n",
      "Q6P587\tNP_828867\ttaxid:9606(Homo sapiens)\ttaxid:694009(Severe acute respiratory syndrome-related coronavirus)\n",
      "\n",
      "==> mnDNA_hpi-virhostnet-query.txt <==\n",
      "host_protein1\tpathogen_protein2\thost\tpathogen\n",
      "Q6P587\tNP_828867\ttaxid:9606(Homo sapiens)\ttaxid:694009(Severe acute respiratory syndrome-related coronavirus)\n",
      "Q6P587\tNP_828867\ttaxid:9606(Homo sapiens)\ttaxid:694009(Severe acute respiratory syndrome-related coronavirus)\n"
     ]
    }
   ],
   "source": [
    "# split file into mDNA and nDNA list\n",
    "! grep -a -v -w -f ../mt-protein-uniprot.txt mnDNA_hpi-{input1} > nDNA_hpi-{input1}\n",
    "! head -n1 mnDNA_hpi-{input1} > mDNA_hpi-{input1}\n",
    "! grep -a -w -f ../mt-protein-uniprot.txt mnDNA_hpi-{input1} >> mDNA_hpi-{input1}\n",
    "! wc -l mDNA_hpi-{input1} nDNA_hpi-{input1} ; wc -l mnDNA_hpi-{input1}\n",
    "! head -n3 mDNA_hpi-{input1} nDNA_hpi-{input1} mnDNA_hpi-{input1}"
   ]
  },
  {
   "cell_type": "code",
   "execution_count": 11,
   "metadata": {},
   "outputs": [
    {
     "name": "stdout",
     "output_type": "stream",
     "text": [
      "host_protein1\tpathogen_protein2\thost\tpathogen\r",
      "\r\n",
      "Q6P4E1\tQ32ZE1\ttaxid:9606(Homo sapiens)\ttaxid:64320(Zika virus)\r",
      "\r\n",
      "Q6P4E1\tQ6SWB8\ttaxid:9606(Homo sapiens)\ttaxid:295027(Human herpesvirus 5 strain Merlin)\r",
      "\r\n",
      "Q6P587\tNP_828867\ttaxid:9606(Homo sapiens)\ttaxid:694009(Severe acute respiratory syndrome-related coronavirus)\r",
      "\r\n",
      "Q6P587\tNP_828867\ttaxid:9606(Homo sapiens)\ttaxid:694009(Severe acute respiratory syndrome-related coronavirus)\r",
      "\r\n",
      "Q6P587\tP0C788\ttaxid:9606(Homo sapiens)\ttaxid:868565(Human herpesvirus 8 strain GK18)\r",
      "\r\n",
      "Q6P5R6\tQ1K9H5\ttaxid:9606(Homo sapiens)\ttaxid:381518(Influenza A virus (A/Wilson-Smith/1933(H1N1)))\r",
      "\r\n",
      "Q6P996\tA0A0C7TUY8\ttaxid:9606(Homo sapiens)\ttaxid:10376(Human gammaherpesvirus 4)\r",
      "\r\n",
      "Q6P996\tG3CKS7\ttaxid:9606(Homo sapiens)\ttaxid:10376(Human gammaherpesvirus 4)\r",
      "\r\n",
      "Q6P996\tK9UT94\ttaxid:9606(Homo sapiens)\ttaxid:10376(Human gammaherpesvirus 4)\r",
      "\r\n"
     ]
    }
   ],
   "source": [
    "! head hpi-virhostnet-query.txt"
   ]
  },
  {
   "cell_type": "code",
   "execution_count": 12,
   "metadata": {},
   "outputs": [
    {
     "name": "stdout",
     "output_type": "stream",
     "text": [
      "7462\n",
      "994\n",
      "1\n",
      "246\n"
     ]
    }
   ],
   "source": [
    "! tail -n +2 hpi-virhostnet-query.txt|cut -f1|sort -u|wc -l\n",
    "! tail -n +2 hpi-virhostnet-query.txt|cut -f2|sort -u|wc -l\n",
    "! tail -n +2 hpi-virhostnet-query.txt|cut -f3|sort -u|wc -l\n",
    "! tail -n +2 hpi-virhostnet-query.txt|cut -f4|sort -u|wc -l"
   ]
  },
  {
   "cell_type": "code",
   "execution_count": 13,
   "metadata": {},
   "outputs": [
    {
     "name": "stdout",
     "output_type": "stream",
     "text": [
      "33301 hpi-virhostnet-query.txt\n",
      "host_protein1 7462\n",
      "pathogen_protein2 994\n",
      "host 1\n",
      "pathogen 246\n"
     ]
    }
   ],
   "source": [
    "column4file='hpi-virhostnet-query.txt'\n",
    "! wc -l {column4file}\n",
    "for i in range(4):\n",
    "    header = ! head -n1 {column4file} |cut -f{i+1}\n",
    "    count = ! tail -n +2 {column4file} |cut -f{i+1}  |sort -u|wc -l\n",
    "    print (header[0], count[0])"
   ]
  },
  {
   "cell_type": "code",
   "execution_count": null,
   "metadata": {},
   "outputs": [],
   "source": []
  }
 ],
 "metadata": {
  "kernelspec": {
   "display_name": "Python 3",
   "language": "python",
   "name": "python3"
  },
  "language_info": {
   "codemirror_mode": {
    "name": "ipython",
    "version": 3
   },
   "file_extension": ".py",
   "mimetype": "text/x-python",
   "name": "python",
   "nbconvert_exporter": "python",
   "pygments_lexer": "ipython3",
   "version": "3.8.5"
  }
 },
 "nbformat": 4,
 "nbformat_minor": 4
}
