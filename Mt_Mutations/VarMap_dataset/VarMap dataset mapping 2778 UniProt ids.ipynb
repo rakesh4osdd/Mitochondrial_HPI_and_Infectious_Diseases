{
 "cells": [
  {
   "cell_type": "code",
   "execution_count": 7,
   "metadata": {},
   "outputs": [
    {
     "name": "stdout",
     "output_type": "stream",
     "text": [
      " history_varmap.txt\t\t\t\t  wget-log\r\n",
      " VarMap-ClinVar-results.zip\t\t\t  wget-log.1\r\n",
      "'VarMap dataset mapping 2778 UniProt ids.ipynb'\r\n"
     ]
    }
   ],
   "source": [
    "# rakesh4osdd@gmail.com 09 Dec 2020| code for VarMap dataset match 2778 and parsing\n",
    "\n",
    "# https://www.ebi.ac.uk/thornton-srv/databases/cgi-bin/VarSite/GetPage.pl?template=DNAsearch.html&coobatch=ClinVar&param1=347147&param2=1&param3=2&source=2&code=1\n",
    "# https://www.ebi.ac.uk/thornton-srv/databases/cgi-bin/VarSite/GetPage.pl?uniprot_acc=n/a&template=documentation_VarMap.html\n",
    "\n",
    "# download VarMap dataset\n",
    "#! wget -c 'https://www.ebi.ac.uk/thornton-srv/databases/cgi-bin/VarSite/GetText.pl?coobatch=ClinVar&pdb_type=VARSITE&code=1&source=2' -O VarMap-ClinVar-results.zip\n",
    "! ls "
   ]
  },
  {
   "cell_type": "code",
   "execution_count": 8,
   "metadata": {},
   "outputs": [
    {
     "name": "stdout",
     "output_type": "stream",
     "text": [
      "66M\tVarMap-ClinVar-results.zip\n",
      "Archive:  VarMap-ClinVar-results.zip\n",
      "  inflating: results.tsv             \n"
     ]
    }
   ],
   "source": [
    "! du -sh VarMap-ClinVar-results.zip\n",
    "! unzip VarMap-ClinVar-results.zip"
   ]
  },
  {
   "cell_type": "code",
   "execution_count": 141,
   "metadata": {},
   "outputs": [
    {
     "name": "stdout",
     "output_type": "stream",
     "text": [
      "351117 results.tsv\n",
      "-rw-r--r-- 1 rakesh rakesh 779M Oct 22  2019 results.tsv\n",
      "CHROMOSOME\tCOORDS\tUSER_BASE\tUSER_VARIANT\tENSEMBL_BASE\tVEP_CODING_BASE\tGENE\tGENE_ACC\tREFSEQ_GENE_ACC\tTRANSCRIPT\tREFSEQ_TRANSCRIPT\tHGVS_C\tHGVS_P\tSTRAND_DIR\tCODON_CHANGE\tVEP_AA\tUNIPROT_AA\tAA_CHANGE\tPOLYPHEN_SCORE\tSIFTS_SCORE\tCADD_PHRED\tCADD_RAW\tCADD_MARK\tUNIPROT_ACCESSION\tPROTEIN_NAME\tSEQ_NO\tCHANGE_TYPE\tALL_TRANSCRIPTS\tNOTE\tGNOMAD_ALLELE_FREQ\tNEGATIVE\tUSER_ID\tSYNONYMOUS\tHAVE_PDB\tPDB_UNIPROT_MATCH\tCLOSEST_PDB_CODE\tPDB_CHAIN\tPDB_PROTEIN_NAME\tPDB_EXPT_TYPE\tPDB_RESOLUTION\tPDB_RFACT\tPDB_UNIPROT_ACC\tPDB_IDENTITY\tPDB_SW_SCORE\tPDB_E_VALUE\tRES_NAME\tRES_NUM\tSST\tCAT_RES\tDISULPHIDE\tNTO_DNA\tNTO_LIGAND\tNTO_METAL\tNTO_PROTEIN\tNPDB_RES\tLIGANDS\tMETALS\tPFAM_DOMAIN\tPFAM_NAME\tCATH_DOMAIN\tCATH_NAME\tRES_CONSERVATION\tNCONS_SEQS\tDISEASES\tDISEASE_VARIANTS\tNVARIANTS\tNAT_VARIANTS\n",
      "1\t1014042\tG\tA\tG\tG\t-9\t-\tNM_005101\tNo transcripts map to a Swissprot canonical isoform (but maps to other isoforms)\t-,-,-,NM_005101,-\t-\t-\tpositive\taGc/aAc\t-\t-\t-\t0\t0.73\t2.519\t0.076262\t0\t-\tUpstream gene variant, Missense variant, Regulatory region variant\t-\tUpstream gene variant/Missense variant/Regulatory region variant\tENST00000458555,-,-,-,-,-,-,*,-,-,-,2.519,0.076262,Upstream gene variant,-,negative / ENST00000624652,NM_005101,ENST00000624652.1:c.38G>A,A0A096LNZ9,ENSP00000485313.1:p.Ser13Asn,13,S/N,*,ISG15,0,0.7,2.519,0.076262,Missense variant,aGc/aAc,positive / ENST00000624697,NM_005101,ENST00000624697.4:c.38G>A,A0A096LPJ4,ENSP00000485643.1:p.Ser13Asn,13,S/N,*,ISG15,0,0.72,2.519,0.076262,Missense variant,aGc/aAc,positive / ENST00000649529,NM_005101,ENST00000649529.1:c.62G>A,-,ENSP00000496832.1:p.Ser21Asn,21,S/N,*,ISG15,0,0.73,2.519,0.076262,Missense variant,aGc/aAc,positive / ENSR00000000122,NM_005101,ENST00000649529.1:c.62G>A,-,ENSP00000496832.1:p.Ser21Asn,-,-,*,ISG15,0,0.73,2.519,0.076262,Regulatory region variant,-,positive\tNo transcripts map to a Swissprot canonical isoform (but maps to other isoforms)\t0.00131\tFALSE\t475283\tTRUE\tFALSE\tFALSE\t-\t-\t-\t-\t-\t-\t-\t-\t-\t-\t-\t-\t-\t-\t-\t-\t-\t-\t-\t-\t-\t-\t-\t-\t-\t-\t-1\t0\t-\t-\t0;0;0;0;0;0\t-\n"
     ]
    }
   ],
   "source": [
    "! wc -l results.tsv  \n",
    "! ls -lh results.tsv\n",
    "! head -n2 results.tsv"
   ]
  },
  {
   "cell_type": "code",
   "execution_count": 142,
   "metadata": {},
   "outputs": [
    {
     "name": "stdout",
     "output_type": "stream",
     "text": [
      "351016\r\n"
     ]
    }
   ],
   "source": [
    "# variat count using CHROMOSOME\tCOORDS\tUSER_BASE\tUSER_VARIANT\n",
    "! tail -n +2 results.tsv|cut -f1-4|sort -u|wc -l"
   ]
  },
  {
   "cell_type": "code",
   "execution_count": 145,
   "metadata": {},
   "outputs": [
    {
     "name": "stdout",
     "output_type": "stream",
     "text": [
      "CHROMOSOME\tCOORDS\tUSER_BASE\tUSER_VARIANT\tGENE\tCODON_CHANGE\tAA_CHANGE\tUNIPROT_ACCESSION\r\n"
     ]
    }
   ],
   "source": [
    "! head -n1 results.tsv|cut -f1-4,7,15,18,24"
   ]
  },
  {
   "cell_type": "code",
   "execution_count": 54,
   "metadata": {},
   "outputs": [
    {
     "name": "stdout",
     "output_type": "stream",
     "text": [
      "106322\r\n"
     ]
    }
   ],
   "source": [
    "! grep -w -f uniprot_2778_list.txt results.tsv|wc -l"
   ]
  },
  {
   "cell_type": "code",
   "execution_count": 58,
   "metadata": {},
   "outputs": [
    {
     "name": "stdout",
     "output_type": "stream",
     "text": [
      "106323 VarMap_results_UniProt_2778.tsv\n",
      "278M\tVarMap_results_UniProt_2778.tsv\n"
     ]
    }
   ],
   "source": [
    "! head -n1 results.tsv > VarMap_results_UniProt_2778.tsv\n",
    "! grep -w -f uniprot_2778_list.txt results.tsv >> VarMap_results_UniProt_2778.tsv\n",
    "! wc -l VarMap_results_UniProt_2778.tsv\n",
    "! du -sh VarMap_results_UniProt_2778.tsv"
   ]
  },
  {
   "cell_type": "code",
   "execution_count": 129,
   "metadata": {},
   "outputs": [
    {
     "name": "stdout",
     "output_type": "stream",
     "text": [
      "1763 c24_VarMap_results_UniProt_2778.tsv\r\n"
     ]
    }
   ],
   "source": [
    "! tail -n +2 VarMap_results_UniProt_2778.tsv| cut -f24|sort -u > c24_VarMap_results_UniProt_2778.tsv\n",
    "! wc -l c24_VarMap_results_UniProt_2778.tsv"
   ]
  },
  {
   "cell_type": "code",
   "execution_count": 139,
   "metadata": {},
   "outputs": [
    {
     "name": "stdout",
     "output_type": "stream",
     "text": [
      "1146\r\n"
     ]
    }
   ],
   "source": [
    "! grep -w -f uniprot_2778_list.txt  c24_VarMap_results_UniProt_2778.tsv|sort -u|wc -l"
   ]
  },
  {
   "cell_type": "code",
   "execution_count": 3,
   "metadata": {},
   "outputs": [
    {
     "data": {
      "text/plain": [
       "'1.1.4'"
      ]
     },
     "execution_count": 3,
     "metadata": {},
     "output_type": "execute_result"
    }
   ],
   "source": [
    "# match UNIPROT_ACCESSION with uniprot 2278 list\n",
    "import pandas as pd\n",
    "pd.__version__"
   ]
  },
  {
   "cell_type": "code",
   "execution_count": 4,
   "metadata": {},
   "outputs": [],
   "source": [
    "A= pd.read_csv(\"uniprot_2778_list.txt\", names=[\"UNIPROT_ACCESSION\"])"
   ]
  },
  {
   "cell_type": "code",
   "execution_count": 5,
   "metadata": {},
   "outputs": [
    {
     "data": {
      "text/html": [
       "<div>\n",
       "<style scoped>\n",
       "    .dataframe tbody tr th:only-of-type {\n",
       "        vertical-align: middle;\n",
       "    }\n",
       "\n",
       "    .dataframe tbody tr th {\n",
       "        vertical-align: top;\n",
       "    }\n",
       "\n",
       "    .dataframe thead th {\n",
       "        text-align: right;\n",
       "    }\n",
       "</style>\n",
       "<table border=\"1\" class=\"dataframe\">\n",
       "  <thead>\n",
       "    <tr style=\"text-align: right;\">\n",
       "      <th></th>\n",
       "      <th>UNIPROT_ACCESSION</th>\n",
       "    </tr>\n",
       "  </thead>\n",
       "  <tbody>\n",
       "    <tr>\n",
       "      <th>count</th>\n",
       "      <td>2778</td>\n",
       "    </tr>\n",
       "    <tr>\n",
       "      <th>unique</th>\n",
       "      <td>2778</td>\n",
       "    </tr>\n",
       "    <tr>\n",
       "      <th>top</th>\n",
       "      <td>P62491</td>\n",
       "    </tr>\n",
       "    <tr>\n",
       "      <th>freq</th>\n",
       "      <td>1</td>\n",
       "    </tr>\n",
       "  </tbody>\n",
       "</table>\n",
       "</div>"
      ],
      "text/plain": [
       "       UNIPROT_ACCESSION\n",
       "count               2778\n",
       "unique              2778\n",
       "top               P62491\n",
       "freq                   1"
      ]
     },
     "execution_count": 5,
     "metadata": {},
     "output_type": "execute_result"
    }
   ],
   "source": [
    "A.describe()"
   ]
  },
  {
   "cell_type": "code",
   "execution_count": 118,
   "metadata": {},
   "outputs": [
    {
     "name": "stdout",
     "output_type": "stream",
     "text": [
      "{'encoding': 'ascii', 'confidence': 1.0, 'language': ''}\n",
      "14897 {'encoding': None, 'confidence': 0.0, 'language': None}\n",
      "14898 {'encoding': 'ascii', 'confidence': 1.0, 'language': ''}\n",
      "81858 {'encoding': None, 'confidence': 0.0, 'language': None}\n",
      "81859 {'encoding': 'ascii', 'confidence': 1.0, 'language': ''}\n",
      "106997 {'encoding': None, 'confidence': 0.0, 'language': None}\n",
      "106998 {'encoding': 'ascii', 'confidence': 1.0, 'language': ''}\n",
      "106999 {'encoding': None, 'confidence': 0.0, 'language': None}\n",
      "107000 {'encoding': 'ascii', 'confidence': 1.0, 'language': ''}\n",
      "168533 {'encoding': 'Windows-1252', 'confidence': 0.73, 'language': ''}\n",
      "168534 {'encoding': 'ascii', 'confidence': 1.0, 'language': ''}\n",
      "175074 {'encoding': None, 'confidence': 0.0, 'language': None}\n",
      "175075 {'encoding': 'ascii', 'confidence': 1.0, 'language': ''}\n",
      "176450 {'encoding': None, 'confidence': 0.0, 'language': None}\n",
      "176465 {'encoding': 'ascii', 'confidence': 1.0, 'language': ''}\n"
     ]
    }
   ],
   "source": [
    "# check character encoding of results.tsv before reading using pandas module\n",
    "import chardet\n",
    "n=0\n",
    "with open('results.tsv', 'rb') as x:\n",
    "    line = x.readline()\n",
    "    curChar = chardet.detect(line)\n",
    "    print(curChar)   \n",
    "    while line:\n",
    "        n=n+1\n",
    "        if curChar != chardet.detect(line):\n",
    "            curChar = chardet.detect(line)\n",
    "            print(n, curChar)\n",
    "        line = x.readline()"
   ]
  },
  {
   "cell_type": "code",
   "execution_count": 155,
   "metadata": {},
   "outputs": [
    {
     "name": "stderr",
     "output_type": "stream",
     "text": [
      "b'Skipping line 188478: expected 67 fields, saw 68\\nSkipping line 228146: expected 67 fields, saw 68\\nSkipping line 319628: expected 67 fields, saw 68\\nSkipping line 319629: expected 67 fields, saw 68\\nSkipping line 345854: expected 67 fields, saw 68\\n'\n"
     ]
    }
   ],
   "source": [
    "B= pd.read_csv(\"results.tsv\", sep='\\t', low_memory=False,warn_bad_lines=True, error_bad_lines=False, encoding=\"Windows-1252\")"
   ]
  },
  {
   "cell_type": "code",
   "execution_count": 164,
   "metadata": {},
   "outputs": [
    {
     "name": "stdout",
     "output_type": "stream",
     "text": [
      "\r\n",
      "-\r\n",
      "Asn(3.58e-05)\r\n",
      "Gln(0.0002333)\r\n",
      "His(5.481e-06)\r\n",
      "Val(0.004045)\r\n"
     ]
    }
   ],
   "source": [
    "# check 68 column\n",
    "! cut -f68 results.tsv|sort -u"
   ]
  },
  {
   "cell_type": "code",
   "execution_count": 191,
   "metadata": {},
   "outputs": [
    {
     "name": "stdout",
     "output_type": "stream",
     "text": [
      "11\t77147880\tG\tT\tG\tG\tMYO7A\tENSG00000137474\tNM_000260\tENST00000409619;\t-,NM_000260,NM_001127180,NM_001127179\t-\t-\tpositive\tcGc/cTc\tR\tR\tR/L\t0.831\t0.05\t32\t4.777852\t3\tQ13402\tUnconventional myosin-VIIa\t72\tMissense variant\tENST00000409619,NM_000260,ENST00000409619.6:c.182G>T,Q13402-8,ENSP00000386635.2:p.Arg61Leu,61,R/L,*,MYO7A,0.831,0.05,32,4.777852,Missense variant,cGc/cTc,positive / ENST00000409709,NM_000260,ENST00000409709.9:c.215G>T,Q13402-1,ENSP00000386331.3:p.Arg72Leu,72,R/L,*,MYO7A,0.992,0.05,32,4.777852,Missense variant,cGc/cTc,positive / ENST00000458637,NM_000260,ENST00000458637.6:c.215G>T,Q13402-2,ENSP00000392185.2:p.Arg72Leu,72,R/L,*,MYO7A,0.429,0.05,32,4.777852,Missense variant,cGc/cTc,positive / ENST00000620575,NM_000260,ENST00000620575.4:c.215G>T,A0A087WT71,ENSP00000477640.1:p.Arg72Leu,72,R/L,*,MYO7A,0.992,0.06,32,4.777852,Missense variant,cGc/cTc,positive\tTranscript mapped to Swissprot canonical sequence via isoform Q13402-8\t-\tFALSE\t306155\tFALSE\tTRUE\tFALSE\t4p7h\tA\tStructure of human beta-cardiac myosin motor domain\tgfp chimera\t0\t   3.200\t   0.229\t-\t  39.900\t1538\t4.1e-43\tSER\t  70 \tH\tFALSE\tFALSE\t0\t0\t0\t0\t145\t-\t-\tPF00063\tMyosin_head\t-\t-\t1.000\t35\t-\t-\t0;1;0;0;0;0\t-\n",
      "\n",
      "14\t23407217\tC\tT\tC\tG\tMYH6\tENSG00000197616\t-\tENST00000405093;\tNM_002471\tENST00000405093.8:c.7G>A\tENSP00000386041.3:p.Asp3Asn\tnegative\tGat/Aat\tD\tD\tD/N\t0.999\t0\t24.4\t3.570875\t1\tP13533\tMyosin-6\t3\tMissense variant\tENST00000405093,-,ENST00000405093.8:c.7G>A,P13533,ENSP00000386041.3:p.Asp3Asn,3,D/N,*,MYH6,0.999,0,24.4,3.570875,Missense variant,Gat/Aat,negative / ENST00000557461,-,ENST00000557461.2:n.74G>A,-,ENSP00000386041.3:p.Asp3Asn,-,-,*,MYH6,0.999,0,24.4,3.570875,Non coding transcript exon variant,-,negative / ENSR00000492685,-,ENST00000557461.2:n.74G>A,-,ENSP00000386041.3:p.Asp3Asn,-,-,*,MYH6,0.999,0,24.4,3.570875,Regulatory region variant,-,negative\t-\t3.58e-05\tTRUE\t520321\tFALSE\tTRUE\tFALSE\t4p7h\tA\tStructure of human beta-cardiac myosin motor domain\tgfp chimera\t0\t   3.200\t   0.229\t-\t  87.500\t4482\t6.3e-78\tASP\t   3 \tH\tFALSE\tFALSE\t0\t0\t0\t0\t20\t-\t-\t-\t-\t-\t-\t0.729\t61\t-\t-\t0;0;0;0;0;0\tAsn(3.58e-05)\n",
      "\n"
     ]
    }
   ],
   "source": [
    "# check line number 188478-1 = 188477, 228146-1 = 228145\n",
    "file = open('results.tsv', encoding=\"Windows-1252\")\n",
    "all_lines = file.readlines()\n",
    "print(all_lines[188477])\n",
    "print(all_lines[228145])"
   ]
  },
  {
   "cell_type": "code",
   "execution_count": 165,
   "metadata": {},
   "outputs": [],
   "source": [
    "# create a new file without 68 column\n",
    "! cut -f1-67 results.tsv > varmap_results.tsv"
   ]
  },
  {
   "cell_type": "code",
   "execution_count": 193,
   "metadata": {},
   "outputs": [
    {
     "name": "stdout",
     "output_type": "stream",
     "text": [
      "351117 varmap_results.tsv\n",
      "779M\tvarmap_results.tsv\n"
     ]
    }
   ],
   "source": [
    "! wc -l varmap_results.tsv\n",
    "! du -sh varmap_results.tsv"
   ]
  },
  {
   "cell_type": "code",
   "execution_count": 6,
   "metadata": {},
   "outputs": [],
   "source": [
    "# read again in pandas\n",
    "B= pd.read_csv(\"varmap_results.tsv\", sep='\\t', low_memory=False,warn_bad_lines=True, error_bad_lines=False, encoding=\"Windows-1252\")"
   ]
  },
  {
   "cell_type": "code",
   "execution_count": 203,
   "metadata": {},
   "outputs": [
    {
     "data": {
      "text/plain": [
       "351116"
      ]
     },
     "execution_count": 203,
     "metadata": {},
     "output_type": "execute_result"
    }
   ],
   "source": [
    "len(B)"
   ]
  },
  {
   "cell_type": "code",
   "execution_count": 204,
   "metadata": {},
   "outputs": [
    {
     "data": {
      "text/plain": [
       "count     351116\n",
       "unique      6678\n",
       "top            -\n",
       "freq       52877\n",
       "Name: UNIPROT_ACCESSION, dtype: object"
      ]
     },
     "execution_count": 204,
     "metadata": {},
     "output_type": "execute_result"
    }
   ],
   "source": [
    "B.UNIPROT_ACCESSION.describe()"
   ]
  },
  {
   "cell_type": "code",
   "execution_count": 7,
   "metadata": {},
   "outputs": [],
   "source": [
    "# select the match 2778 uniprot ids  in varmap_results.tsv\n",
    "C= pd.merge(A, B, on='UNIPROT_ACCESSION')"
   ]
  },
  {
   "cell_type": "code",
   "execution_count": 8,
   "metadata": {},
   "outputs": [
    {
     "data": {
      "text/plain": [
       "83830"
      ]
     },
     "execution_count": 8,
     "metadata": {},
     "output_type": "execute_result"
    }
   ],
   "source": [
    "len(C)"
   ]
  },
  {
   "cell_type": "code",
   "execution_count": 207,
   "metadata": {},
   "outputs": [
    {
     "data": {
      "text/plain": [
       "count      83830\n",
       "unique      1030\n",
       "top       Q8WZ42\n",
       "freq        9235\n",
       "Name: UNIPROT_ACCESSION, dtype: object"
      ]
     },
     "execution_count": 207,
     "metadata": {},
     "output_type": "execute_result"
    }
   ],
   "source": [
    "C.UNIPROT_ACCESSION.describe()"
   ]
  },
  {
   "cell_type": "code",
   "execution_count": 208,
   "metadata": {},
   "outputs": [],
   "source": [
    "C.to_csv(\"uid1030_varmap_results.tsv\", sep=\"\\t\", index=False)"
   ]
  },
  {
   "cell_type": "code",
   "execution_count": 209,
   "metadata": {},
   "outputs": [
    {
     "name": "stdout",
     "output_type": "stream",
     "text": [
      "83831 uid1030_varmap_results.tsv\n",
      "219M\tuid1030_varmap_results.tsv\n"
     ]
    }
   ],
   "source": [
    "! wc -l uid1030_varmap_results.tsv\n",
    "! du -sh uid1030_varmap_results.tsv"
   ]
  },
  {
   "cell_type": "code",
   "execution_count": 210,
   "metadata": {},
   "outputs": [
    {
     "name": "stdout",
     "output_type": "stream",
     "text": [
      "UNIPROT_ACCESSION\tCHROMOSOME\tCOORDS\tUSER_BASE\tUSER_VARIANT\tENSEMBL_BASE\tVEP_CODING_BASE\tGENE\tGENE_ACC\tREFSEQ_GENE_ACC\tTRANSCRIPT\tREFSEQ_TRANSCRIPT\tHGVS_C\tHGVS_P\tSTRAND_DIR\tCODON_CHANGE\tVEP_AA\tUNIPROT_AA\tAA_CHANGE\tPOLYPHEN_SCORE\tSIFTS_SCORE\tCADD_PHRED\tCADD_RAW\tCADD_MARK\tPROTEIN_NAME\tSEQ_NO\tCHANGE_TYPE\tALL_TRANSCRIPTS\tNOTE\tGNOMAD_ALLELE_FREQ\tNEGATIVE\tUSER_ID\tSYNONYMOUS\tHAVE_PDB\tPDB_UNIPROT_MATCH\tCLOSEST_PDB_CODE\tPDB_CHAIN\tPDB_PROTEIN_NAME\tPDB_EXPT_TYPE\tPDB_RESOLUTION\tPDB_RFACT\tPDB_UNIPROT_ACC\tPDB_IDENTITY\tPDB_SW_SCORE\tPDB_E_VALUE\tRES_NAME\tRES_NUM\tSST\tCAT_RES\tDISULPHIDE\tNTO_DNA\tNTO_LIGAND\tNTO_METAL\tNTO_PROTEIN\tNPDB_RES\tLIGANDS\tMETALS\tPFAM_DOMAIN\tPFAM_NAME\tCATH_DOMAIN\tCATH_NAME\tRES_CONSERVATION\tNCONS_SEQS\tDISEASES\tDISEASE_VARIANTS\tNVARIANTS\tNAT_VARIANTS\r\n",
      "A0A087WVQ6\t17\t59681058\tG\tA\tG\t-\t-9\tENSG00000141367\tNM_004859\tNo transcripts map to a Swissprot canonical isoform (but maps to other isoforms)\tNM_004859,-,-,-,-,-,-,-,NM_001288653\t-\t-\tpositive\t-\t-\t-\t-\t-\t-\t34\t5.197197\t3\tSplice donor variant, Upstream gene variant, Intron variant, Downstream gene variant, Intr ...\t-\tSplice donor variant/Upstream gene variant/Intron variant/Downstream gene variant/Intron variant + non coding transcript variant\tENST00000269122,NM_004859,ENST00000269122.7:c.3065+1G>A,Q00610-1,-,-,-,*,CLTC,-,-,34,5.197197,Splice donor variant,-,positive / ENST00000393043,NM_004859,ENST00000393043.5:c.3065+1G>A,Q00610-2,-,-,-,*,CLTC,-,-,34,5.197197,Splice donor variant,-,positive / ENST00000472651,NM_004859,ENST00000393043.5:c.3065+1G>A,K7EJJ5,-,-,-,*,CLTC,-,-,34,5.197197,Upstream gene variant,-,positive / ENST00000475458,NM_004859,ENST00000393043.5:c.3065+1G>A,J3KRF5,-,-,-,*,CLTC,-,-,34,5.197197,Upstream gene variant,-,positive / ENST00000496076,NM_004859,ENST00000393043.5:c.3065+1G>A,-,-,-,-,*,CLTC,-,-,34,5.197197,Upstream gene variant,-,positive / ENST00000579456,NM_004859,ENST00000579456.5:c.301-1260G>A,J3KS13,-,-,-,*,CLTC,-,-,34,5.197197,Intron variant,-,positive / ENST00000579815,NM_004859,ENST00000579456.5:c.301-1260G>A,-,-,-,-,*,CLTC,-,-,34,5.197197,Downstream gene variant,-,positive / ENST00000587935,NM_016077,ENST00000587935.1:n.46-1514C>T,-,-,-,-,*,PTRH2,-,-,34,5.197197,Intron variant + non coding transcript variant,-,negative / ENST00000621829,NM_004859,ENST00000621829.4:c.3077+1G>A,A0A087WVQ6,-,-,-,*,CLTC,-,-,34,5.197197,Splice donor variant,-,positive\tNo transcripts map to a Swissprot canonical isoform (but maps to other isoforms)\t-\tFALSE\t489038\tTRUE\tFALSE\tFALSE\t-\t-\t-\t-\t-\t-\t-\t-\t-\t-\t-\t-\t-\t-\t-\t-\t-\t-\t-\t-\t-\t-\t-\t-\t-\t-\t-1\t0.0\t-\t-\t0;0;0;0;0;0\t-\r\n"
     ]
    }
   ],
   "source": [
    "! head -n2 uid1030_varmap_results.tsv"
   ]
  },
  {
   "cell_type": "code",
   "execution_count": 215,
   "metadata": {},
   "outputs": [
    {
     "name": "stdout",
     "output_type": "stream",
     "text": [
      "219M\tuid1030_varmap_results.tsv\n",
      "18M\tuid1030_varmap_results.tsv.tar.gz\n"
     ]
    }
   ],
   "source": [
    "! du -sh uid1030_varmap_results.tsv\n",
    "# reduce the size for github\n",
    "! tar cvzf uid1030_varmap_results.tsv.tar.gz uid1030_varmap_results.tsv\n",
    "! du -sh uid1030_varmap_results.tsv.tar.gz "
   ]
  },
  {
   "cell_type": "code",
   "execution_count": 9,
   "metadata": {},
   "outputs": [
    {
     "data": {
      "text/plain": [
       "83830"
      ]
     },
     "execution_count": 9,
     "metadata": {},
     "output_type": "execute_result"
    }
   ],
   "source": [
    "# count variants\n",
    "C.groupby(['CHROMOSOME', 'COORDS', 'USER_BASE', 'USER_VARIANT' ]).ngroups"
   ]
  }
 ],
 "metadata": {
  "kernelspec": {
   "display_name": "Python 3",
   "language": "python",
   "name": "python3"
  },
  "language_info": {
   "codemirror_mode": {
    "name": "ipython",
    "version": 3
   },
   "file_extension": ".py",
   "mimetype": "text/x-python",
   "name": "python",
   "nbconvert_exporter": "python",
   "pygments_lexer": "ipython3",
   "version": "3.8.5"
  }
 },
 "nbformat": 4,
 "nbformat_minor": 4
}
