{
 "cells": [
  {
   "cell_type": "code",
   "execution_count": 64,
   "metadata": {},
   "outputs": [],
   "source": [
    "# #This  program is created by rakesh from crddmirror system on Tue 01 Dec 2020 11:22:29 PM IST.\n",
    "#License: Attribution-NonCommercial-ShareAlike 4.0 International. For feedback, please email at rakesh4osdd@gmail.com\n",
    "# check for updated code jupyter file name 'virhostnet' in MITAB 2.5 format\n",
    "import csv\n",
    "import re\n",
    "import fileinput"
   ]
  },
  {
   "cell_type": "code",
   "execution_count": 65,
   "metadata": {},
   "outputs": [],
   "source": [
    "! grep ';'  9606 > 9606_virusmentha.txt  # remove unwanted blank line\n",
    "# define input and output file with taxid mapping file\n",
    "input1='9606_virusmentha.txt'\n",
    "output1='hpi-'+input1\n",
    "both2='both-'+input1\n",
    "pathogen3='pathogen-'+input1\n",
    "mapping_taxid='mapping-203_pathogen_taxid_virusmentha.txt'"
   ]
  },
  {
   "cell_type": "code",
   "execution_count": 66,
   "metadata": {},
   "outputs": [
    {
     "data": {
      "text/plain": [
       "47"
      ]
     },
     "execution_count": 66,
     "metadata": {},
     "output_type": "execute_result"
    }
   ],
   "source": [
    "# set output file for writing\n",
    "#fieldnames = [ 'SN', 'protein1', 'protein2', 'host', 'partner']\n",
    "fieldnames = [ 'host_protein1', 'pathogen_protein2', 'host', 'pathogen']\n",
    "csvfile1=open(output1, 'w', newline='')\n",
    "#fieldnames = ['SN', 'protein1', 'protein2', 'host', 'partner']\n",
    "output = csv.DictWriter(csvfile1,fieldnames=fieldnames, delimiter='\\t')\n",
    "output.writeheader()\n",
    "\n",
    "csvfile2=open(both2, 'w', newline='')\n",
    "#fieldnames = ['SN', 'protein1', 'protein2', 'host', 'partner']\n",
    "both = csv.DictWriter(csvfile2,fieldnames=fieldnames, delimiter='\\t')\n",
    "both.writeheader()\n",
    "\n",
    "csvfile3=open(pathogen3, 'w', newline='')\n",
    "#fieldnames = ['SN', 'protein1', 'protein2', 'host', 'partner']\n",
    "path = csv.DictWriter(csvfile3,fieldnames=fieldnames, delimiter='\\t')\n",
    "path.writeheader()\n",
    "#path.writerow({'SN': '1', 'protein1': 'protein1', 'protein2': 'protein2' , 'host': 'host', 'partner': 'partner2'})"
   ]
  },
  {
   "cell_type": "code",
   "execution_count": 67,
   "metadata": {},
   "outputs": [],
   "source": [
    "def update_taxid(path_taxid):\n",
    "    with fileinput.input(mapping_taxid) as f:\n",
    "        for line in f:\n",
    "            #print (line[:-2])\n",
    "            #for line in fileinput.input(files='map2', inplace=False, mode='r'):\n",
    "            taxid=line.split('\\t')\n",
    "            #print(taxid[0] ,taxid[1][:-2])\n",
    "            #line = re.sub( taxid[0] ,taxid[1], line.rstrip())\n",
    "            if re.search( rf'\\b{taxid[0]}\\b', path_taxid):\n",
    "                new_taxid = re.sub( rf'\\b{taxid[0]}\\b' ,taxid[1], path_taxid)\n",
    "                return str(new_taxid[:-2])\n",
    "    #fileinput.nextfile()\n",
    "    #fileinput.close()\n",
    "#update_taxid('taxid:694009')"
   ]
  },
  {
   "cell_type": "code",
   "execution_count": 68,
   "metadata": {},
   "outputs": [
    {
     "name": "stdout",
     "output_type": "stream",
     "text": [
      "0\n",
      "1\n",
      "2\n"
     ]
    }
   ],
   "source": [
    "# code for filter csv file| c1,5,3,7 |Protein A;Gene A;Taxon A;Family A;Protein B;Gene B;Taxon B;Family B;Score;PMID\n",
    "with open(input1) as csvfile:\n",
    "    hpi = csv.reader(csvfile, delimiter=';')\n",
    "    next(hpi, None)  # skip the headers\n",
    "    for i, row in enumerate(hpi):\n",
    "        if i < 3:\n",
    "            print (i)\n",
    "        if i >=0:\n",
    "            #print(row)\n",
    "            protein1=row[0]\n",
    "            protein2=row[4]\n",
    "            # search for homo sapiens 9606\n",
    "            pattern1=r'\\b9606\\b.*'\n",
    "            # search for pair\n",
    "            pattern2= r\"\\b9606\\b[^:].*\\b9606\\b.*\"\n",
    "            #print(row[2]+row[3])\n",
    "            string=row[2]+'\\t'+row[6]\n",
    "            host=row[2]\n",
    "            pathogen=row[6]\n",
    "            if re.search(pattern2, string):\n",
    "                partner2=pathogen\n",
    "                #both.writerow({'SN': i, 'host_protein1': protein1, 'pathogen_protein2': protein2 , 'host': host, 'pathogen': partner2})\n",
    "                both.writerow({'host_protein1': protein1, 'pathogen_protein2': protein2 , 'host': host, 'pathogen': partner2})\n",
    "            elif re.search(pattern1, host):\n",
    "                # for homogenious hame of host\n",
    "                host='taxid:9606(Homo sapiens)'\n",
    "                partner2= update_taxid(pathogen)\n",
    "                #output.writerow({'SN': i, 'host_protein1': protein1, 'pathogen_protein2': protein2 , 'host': host, 'pathogen': partner2})\n",
    "                output.writerow({'host_protein1': protein1, 'pathogen_protein2': protein2 , 'host': host, 'pathogen': partner2}) \n",
    "            elif re.search(pattern1, pathogen):\n",
    "                #print(row[0], row[1], row[9],row[10])\n",
    "                protein1=row[4] # interchange of protein\n",
    "                protein2=row[0]\n",
    "                # for homogenious hame of host\n",
    "                host='taxid:9606(Homo sapiens)'\n",
    "                partner2=update_taxid(row[2])\n",
    "                #output.writerow({'SN': i, 'host_protein1': protein1, 'pathogen_protein2': protein2 , 'host': host, 'pathogen': partner2})\n",
    "                output.writerow({'host_protein1': protein1, 'pathogen_protein2': protein2 , 'host': host, 'pathogen': partner2})\n",
    "            else:\n",
    "                partner2=pathogen\n",
    "                path.writerow({'host_protein1': row[0] , 'pathogen_protein2': row[4] , 'host': row[2], 'pathogen': row[6]})\n",
    "                #print(\"No match\",row)\n",
    "\n",
    "csvfile1.flush()\n",
    "csvfile2.flush()\n",
    "csvfile3.flush()"
   ]
  },
  {
   "cell_type": "code",
   "execution_count": 70,
   "metadata": {
    "scrolled": false
   },
   "outputs": [
    {
     "name": "stdout",
     "output_type": "stream",
     "text": [
      "==> hpi-9606_virusmentha.txt <==\n",
      "host_protein1\tpathogen_protein2\thost\tpathogen\n",
      "Q99075\tP00587\ttaxid:9606(Homo sapiens)\ttaxid:10703(Corynephage beta)\n",
      "\n",
      "==> both-9606_virusmentha.txt <==\n",
      "host_protein1\tpathogen_protein2\thost\tpathogen\n",
      "\n",
      "==> pathogen-9606_virusmentha.txt <==\n",
      "host_protein1\tpathogen_protein2\thost\tpathogen\n",
      "==> hpi-9606_virusmentha.txt <==\n",
      "Q9HC16\tP69720\ttaxid:9606(Homo sapiens)\ttaxid:11676(Human immunodeficiency virus 1)\n",
      "Q9HC16\tP69721\ttaxid:9606(Homo sapiens)\ttaxid:11676(Human immunodeficiency virus 1)\n",
      "\n",
      "==> both-9606_virusmentha.txt <==\n",
      "host_protein1\tpathogen_protein2\thost\tpathogen\n",
      "\n",
      "==> pathogen-9606_virusmentha.txt <==\n",
      "host_protein1\tpathogen_protein2\thost\tpathogen\n",
      " 10693 hpi-9606_virusmentha.txt\n",
      "     1 both-9606_virusmentha.txt\n",
      "     1 pathogen-9606_virusmentha.txt\n",
      " 10695 total\n",
      "10693 9606_virusmentha.txt\n",
      "10692\n",
      "10692\n"
     ]
    }
   ],
   "source": [
    "# check output files and stats\n",
    "! head -n2 {output1} {both2} {pathogen3} ; tail -n2 {output1} {both2} {pathogen3}\n",
    "! wc -l {output1} {both2} {pathogen3} ; wc -l {input1}\n",
    "#! rm {output1} {both2} {pathogen3}\n",
    "! tail -n +2 hpi-{input1} |cut -f1,2|sort -u|wc -l ; \n",
    "! tail -n +2 {input1} |cut -f1,2|sort -u|wc -l"
   ]
  },
  {
   "cell_type": "code",
   "execution_count": 71,
   "metadata": {},
   "outputs": [],
   "source": [
    "csvfile1.close()\n",
    "csvfile2.close()\n",
    "csvfile3.close()"
   ]
  },
  {
   "cell_type": "code",
   "execution_count": 72,
   "metadata": {
    "scrolled": true
   },
   "outputs": [
    {
     "name": "stdout",
     "output_type": "stream",
     "text": [
      "5028 mnDNA_hpi-9606_virusmentha.txt\n",
      "10693 hpi-9606_virusmentha.txt\n",
      "==> mnDNA_hpi-9606_virusmentha.txt <==\n",
      "host_protein1\tpathogen_protein2\thost\tpathogen\n",
      "Q96EY1\tP03129\ttaxid:9606(Homo sapiens)\ttaxid:333760(Human papillomavirus type 16)\n",
      "\n",
      "==> hpi-9606_virusmentha.txt <==\n",
      "host_protein1\tpathogen_protein2\thost\tpathogen\n",
      "Q99075\tP00587\ttaxid:9606(Homo sapiens)\ttaxid:10703(Corynephage beta)\n"
     ]
    }
   ],
   "source": [
    "# check for Mt Protein exist in the hpi-{input1} file using Mt_Proteins_7432_working_uniprot_ids.txt and mt-protein-uniprot.txt\n",
    "! head -n1 hpi-{input1} > mnDNA_hpi-{input1}\n",
    "! grep -a -w -f ../Mt_Proteins_7432_working_uniprot_ids.txt hpi-{input1} >> mnDNA_hpi-{input1}\n",
    "! wc -l mnDNA_hpi-{input1}; wc -l hpi-{input1}\n",
    "! head -n2 mnDNA_hpi-{input1} hpi-{input1}"
   ]
  },
  {
   "cell_type": "code",
   "execution_count": 73,
   "metadata": {},
   "outputs": [
    {
     "name": "stdout",
     "output_type": "stream",
     "text": [
      "5028 mnDNA_hpi-9606_virusmentha.txt\n",
      "host_protein1 1348\n",
      "pathogen_protein2 402\n",
      "host 1\n",
      "pathogen 158\n"
     ]
    }
   ],
   "source": [
    "column4file='mnDNA_hpi-'+input1\n",
    "! wc -l {column4file}\n",
    "for i in range(4):\n",
    "    header = ! head -n1 {column4file} |cut -f{i+1}\n",
    "    count = ! tail -n +2 {column4file} |cut -f{i+1}  |sort -u|wc -l\n",
    "    print (header[0], count[0])"
   ]
  },
  {
   "cell_type": "code",
   "execution_count": 74,
   "metadata": {},
   "outputs": [
    {
     "name": "stdout",
     "output_type": "stream",
     "text": [
      "==> mDNA_hpi-9606_virusmentha.txt <==\n",
      "host_protein1\tpathogen_protein2\thost\tpathogen\n",
      "P00846\tP0C739\ttaxid:9606(Homo sapiens)\ttaxid:10377(Human herpesvirus 4 strain B95-8)\n",
      "P00403\tP69901\ttaxid:9606(Homo sapiens)\ttaxid:10580(human papillomavirus 11)\n",
      "\n",
      "==> nDNA_hpi-9606_virusmentha.txt <==\n",
      "host_protein1\tpathogen_protein2\thost\tpathogen\n",
      "Q96EY1\tP03129\ttaxid:9606(Homo sapiens)\ttaxid:333760(Human papillomavirus type 16)\n",
      "Q99683\tP69720\ttaxid:9606(Homo sapiens)\ttaxid:11676(Human immunodeficiency virus 1)\n",
      "\n",
      "==> mnDNA_hpi-9606_virusmentha.txt <==\n",
      "host_protein1\tpathogen_protein2\thost\tpathogen\n",
      "Q96EY1\tP03129\ttaxid:9606(Homo sapiens)\ttaxid:333760(Human papillomavirus type 16)\n",
      "Q99683\tP69720\ttaxid:9606(Homo sapiens)\ttaxid:11676(Human immunodeficiency virus 1)\n",
      "    12 mDNA_hpi-9606_virusmentha.txt\n",
      "  5017 nDNA_hpi-9606_virusmentha.txt\n",
      "  5029 total\n",
      "5028 mnDNA_hpi-9606_virusmentha.txt\n"
     ]
    }
   ],
   "source": [
    "# split file into mDNA and nDNA list\n",
    "! head -n1 mnDNA_hpi-{input1} > mDNA_hpi-{input1}\n",
    "! grep -a -w -f ../mt-protein-uniprot.txt mnDNA_hpi-{input1} >> mDNA_hpi-{input1}\n",
    "! grep -a -v -w -f ../mt-protein-uniprot.txt mnDNA_hpi-{input1} > nDNA_hpi-{input1}\n",
    "! head -n3 mDNA_hpi-{input1} nDNA_hpi-{input1} mnDNA_hpi-{input1}\n",
    "! wc -l mDNA_hpi-{input1} nDNA_hpi-{input1} ; wc -l mnDNA_hpi-{input1}"
   ]
  },
  {
   "cell_type": "code",
   "execution_count": 75,
   "metadata": {},
   "outputs": [
    {
     "name": "stdout",
     "output_type": "stream",
     "text": [
      "12 mDNA_hpi-9606_virusmentha.txt\n",
      "host_protein1 3\n",
      "pathogen_protein2 7\n",
      "host 1\n",
      "pathogen 6\n",
      "5017 nDNA_hpi-9606_virusmentha.txt\n",
      "host_protein1 1345\n",
      "pathogen_protein2 402\n",
      "host 1\n",
      "pathogen 158\n"
     ]
    }
   ],
   "source": [
    "files= ! ls nDNA_hpi-{input1} mDNA_hpi-{input1}\n",
    "for file in files:\n",
    "    column4file=file\n",
    "    ! wc -l {column4file}\n",
    "    for i in range(4):\n",
    "        header = ! head -n1 {column4file} |cut -f{i+1}\n",
    "        count = ! tail -n +2 {column4file} |cut -f{i+1}  |sort -u|wc -l\n",
    "        print (header[0], count[0])"
   ]
  },
  {
   "cell_type": "code",
   "execution_count": 76,
   "metadata": {},
   "outputs": [
    {
     "data": {
      "text/plain": [
       "'! tail -n +2 mnDNA_hpi-{input1}|cut -f4|sort -un > 158_pathogen_taxid_virusmentha.txt\\n! wc -l 158_pathogen_taxid_virusmentha.txt; head -n3 158_pathogen_taxid_virusmentha.txt'"
      ]
     },
     "execution_count": 76,
     "metadata": {},
     "output_type": "execute_result"
    }
   ],
   "source": [
    "\"\"\"def update_taxid(path_taxid):\n",
    "    return path_taxid\"\"\"\n",
    "# to create mapping file\n",
    "\"\"\"! tail -n +2 mnDNA_hpi-{input1}|cut -f4|sort -un > 158_pathogen_taxid_virusmentha.txt\n",
    "! wc -l 158_pathogen_taxid_virusmentha.txt; head -n3 158_pathogen_taxid_virusmentha.txt\"\"\""
   ]
  },
  {
   "cell_type": "code",
   "execution_count": 105,
   "metadata": {},
   "outputs": [
    {
     "name": "stdout",
     "output_type": "stream",
     "text": [
      "123 4\n",
      "456 456 123456\n"
     ]
    }
   ],
   "source": []
  },
  {
   "cell_type": "code",
   "execution_count": 77,
   "metadata": {},
   "outputs": [
    {
     "name": "stdout",
     "output_type": "stream",
     "text": [
      "host_protein1\tpathogen_protein2\thost\tpathogen\r",
      "\r\n",
      "Q99075\tP00587\ttaxid:9606(Homo sapiens)\ttaxid:10703(Corynephage beta)\r",
      "\r\n",
      "P27694\tQ9QR71\ttaxid:9606(Homo sapiens)\ttaxid:37296(Human gammaherpesvirus 8)\r",
      "\r\n"
     ]
    }
   ],
   "source": [
    "! head -n3 hpi-9606_virusmentha.txt"
   ]
  },
  {
   "cell_type": "code",
   "execution_count": 78,
   "metadata": {},
   "outputs": [
    {
     "name": "stdout",
     "output_type": "stream",
     "text": [
      "10693 hpi-9606_virusmentha.txt\n",
      "host_protein1 3543\n",
      "pathogen_protein2 585\n",
      "host 1\n",
      "pathogen 203\n"
     ]
    }
   ],
   "source": [
    "column4file='hpi-9606_virusmentha.txt'\n",
    "! wc -l {column4file}\n",
    "for i in range(4):\n",
    "    header = ! head -n1 {column4file} |cut -f{i+1}\n",
    "    count = ! tail -n +2 {column4file} |cut -f{i+1}  |sort -u|wc -l\n",
    "    print (header[0], count[0])"
   ]
  },
  {
   "cell_type": "code",
   "execution_count": null,
   "metadata": {},
   "outputs": [],
   "source": []
  }
 ],
 "metadata": {
  "kernelspec": {
   "display_name": "Python 3",
   "language": "python",
   "name": "python3"
  },
  "language_info": {
   "codemirror_mode": {
    "name": "ipython",
    "version": 3
   },
   "file_extension": ".py",
   "mimetype": "text/x-python",
   "name": "python",
   "nbconvert_exporter": "python",
   "pygments_lexer": "ipython3",
   "version": "3.8.5"
  }
 },
 "nbformat": 4,
 "nbformat_minor": 4
}
