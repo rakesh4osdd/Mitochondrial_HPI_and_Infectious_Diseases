{
 "cells": [
  {
   "cell_type": "code",
   "execution_count": 117,
   "metadata": {},
   "outputs": [],
   "source": [
    "# code for parse IntAct mutation.tsv file with select host-pathogen protein  (UniProt isoforms)\n",
    "import csv\n",
    "import re"
   ]
  },
  {
   "cell_type": "code",
   "execution_count": 118,
   "metadata": {},
   "outputs": [
    {
     "data": {
      "text/plain": [
       "72"
      ]
     },
     "execution_count": 118,
     "metadata": {},
     "output_type": "execute_result"
    }
   ],
   "source": [
    "input1='NCBI_Protein_ID_uniprot_ids_5778_id735_mutations.txt'\n",
    "#input1='mutations_4010.tsv'\n",
    "filecheck='split_'+input1\n",
    "\n",
    "# set output file for writing\n",
    "csvfile2 = open(filecheck, 'w', newline='')\n",
    "fieldnames = [ 'S.No', 'protein1', 'protein2', 'host', 'partner', 'MI-ID', 'mutation', 'Feature short label']\n",
    "#fieldnames = [ 'S.No']\n",
    "writer2 = csv.DictWriter(csvfile2,fieldnames=fieldnames, delimiter='\\t')\n",
    "writer2.writeheader()"
   ]
  },
  {
   "cell_type": "code",
   "execution_count": 119,
   "metadata": {},
   "outputs": [],
   "source": [
    "with open(input1) as csvfile:\n",
    "    hpi = csv.reader(csvfile, delimiter='\\t')\n",
    "    #next(hpi, None)  # skip the headers\n",
    "    for i, row in enumerate(hpi):\n",
    "        if i > 0: #for restricted access of line during code check i= 2, for whole dataset i > -1\n",
    "            ftype=row[5]\n",
    "            protein1=row[7] #.split('-PRO_')[0]  #remove PRO in UniProt IDs \n",
    "            host=row[10]\n",
    "            partner=row[11]\n",
    "            plist= re.split('\\|', partner)\n",
    "            pcount=len(plist)\n",
    "            #print (i, len(plist), plist)\n",
    "            #if pcount > 1803 :\n",
    "           #print (host, partner)\n",
    "            for part in plist:\n",
    "                protein2=re.findall(r'uniprotkb:.\\w+.?\\d+', part) #remove PRO in UniProt IDs\n",
    "                if not protein2:\n",
    "                    protein2=re.findall(r'CHEBI:\\d+', part) #remove PRO in UniProt IDs\n",
    "                    if not protein2:\n",
    "                        protein2=re.findall(r'intact:\\w+-\\d+', part) #remove PRO in UniProt IDs\n",
    "                        if not protein2:\n",
    "                            protein2=re.findall(r'dip:DIP-\\w+', part) #remove PRO in UniProt IDs\n",
    "                mi = re.findall(r'MI:.\\d+', part) \n",
    "                partner2=re.findall(r'\\ [0-9]+.*.\\w+', part)\n",
    "                if not partner2:\n",
    "                    partner2=re.findall(r', \\D.*.\\w', part)\n",
    "                #print (partner2, part)\n",
    "                #print (i, len(plist), plist)\n",
    "                #print (part,host, partner2[0].strip())\n",
    "                if (partner2[0].strip().split('-')[0] != host.split('-')[0]): # remove self interaction\n",
    "                    #print (part,host, partner2[0].strip())\n",
    "                    writer2.writerow({'S.No': i, 'protein1': protein1, 'protein2': protein2[0] , 'host': host, 'partner': partner2[0].strip() ,'MI-ID' : mi[0] , 'mutation': ftype, 'Feature short label':row[1]})\n",
    "                #break\n",
    "    csvfile2.flush()"
   ]
  },
  {
   "cell_type": "code",
   "execution_count": 120,
   "metadata": {},
   "outputs": [],
   "source": [
    "csvfile2.close()"
   ]
  },
  {
   "cell_type": "code",
   "execution_count": 121,
   "metadata": {},
   "outputs": [
    {
     "data": {
      "text/plain": [
       "2187"
      ]
     },
     "execution_count": 121,
     "metadata": {},
     "output_type": "execute_result"
    }
   ],
   "source": [
    "# count the number of lines\n",
    "len(list(csv.reader(open(filecheck))))"
   ]
  },
  {
   "cell_type": "code",
   "execution_count": null,
   "metadata": {},
   "outputs": [],
   "source": []
  }
 ],
 "metadata": {
  "kernelspec": {
   "display_name": "Python 3",
   "language": "python",
   "name": "python3"
  },
  "language_info": {
   "codemirror_mode": {
    "name": "ipython",
    "version": 3
   },
   "file_extension": ".py",
   "mimetype": "text/x-python",
   "name": "python",
   "nbconvert_exporter": "python",
   "pygments_lexer": "ipython3",
   "version": "3.8.5"
  }
 },
 "nbformat": 4,
 "nbformat_minor": 4
}
