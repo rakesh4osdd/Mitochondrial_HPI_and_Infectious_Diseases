{
 "cells": [
  {
   "cell_type": "code",
   "execution_count": 9,
   "metadata": {},
   "outputs": [
    {
     "name": "stdout",
     "output_type": "stream",
     "text": [
      "check-virhostnet-query.txt\r\n",
      "map2\r\n",
      "mapping-taxid-246-pathogen.virus-virhostnet.txt\r\n",
      "path-hpi-virhostnet-query.txt\r\n",
      "taxid-246-pathogen.virus-virhostnet.txt\r\n",
      "taxid-path-hpi-virhostnet-query.txt\r\n",
      "VIrHostNet-filter.ipynb\r\n",
      "virhostnet-query.txt\r\n",
      "VIrHostNet-stats_check.ipynb\r\n"
     ]
    }
   ],
   "source": [
    "# check for updated code jupyter file name 'virhostnet check stats' | copy to another notebook for clean code\n",
    "import csv\n",
    "import re\n",
    "#!ls"
   ]
  },
  {
   "cell_type": "code",
   "execution_count": 10,
   "metadata": {},
   "outputs": [],
   "source": [
    "input1='virhostnet-query.txt'\n",
    "output='hpi-'+input1\n",
    "filecheck='check-'+input1"
   ]
  },
  {
   "cell_type": "code",
   "execution_count": 11,
   "metadata": {},
   "outputs": [
    {
     "data": {
      "text/plain": [
       "52"
      ]
     },
     "execution_count": 11,
     "metadata": {},
     "output_type": "execute_result"
    }
   ],
   "source": [
    "# set output file for writing\n",
    "csvfile1=open(output, 'w', newline='')\n",
    "fieldnames = ['protein1', 'protein2', 'host', 'partner', 'MI-ID', 'mutation']\n",
    "writer = csv.DictWriter(csvfile1,fieldnames=fieldnames, delimiter='\\t')\n",
    "writer.writeheader()\n",
    "\n",
    "# set output file for writing\n",
    "csvfile2 = open(filecheck, 'w', newline='')\n",
    "fieldnames = [ 'S.No', 'protein1', 'protein2', 'host', 'partner', 'MI-ID', 'mutation']\n",
    "#fieldnames = [ 'S.No']\n",
    "writer2 = csv.DictWriter(csvfile2,fieldnames=fieldnames, delimiter='\\t')\n",
    "writer2.writeheader()"
   ]
  },
  {
   "cell_type": "code",
   "execution_count": 12,
   "metadata": {},
   "outputs": [
    {
     "name": "stdout",
     "output_type": "stream",
     "text": [
      "uniprotkb:Q6P4E1 taxid:9606 taxid:295027 ['taxid:9606']\n",
      "1 human\n",
      "uniprotkb:Q6P587 taxid:9606 taxid:694009 ['taxid:9606']\n",
      "1 human\n"
     ]
    }
   ],
   "source": [
    "with open(input1) as csvfile:\n",
    "    hpi = csv.reader(csvfile, delimiter='\\t')\n",
    "    next(hpi, None)  # skip the headers\n",
    "    for i, row in enumerate(hpi):\n",
    "        if i < 2:\n",
    "            print (row[0], row[9],row[10], row[9:10])\n",
    "            host_path=row[9]+'\\t'+row[10]\n",
    "            host=row[9]\n",
    "            pathogen=row[10]\n",
    "            pattern2= r\"\\b9606\\b[^:].*\\b9606\\b.*\"\n",
    "            if re.search(pattern2,host_path ):\n",
    "                print (\"human\")\n",
    "            elif re.search('9606',host):\n",
    "                print ('1', 'human')\n",
    "            elif re.search('9606',path):\n",
    "                print ('1', 'human')\n",
    "            else:\n",
    "                pass\n",
    "\n",
    "    #csvfile2.flush()"
   ]
  },
  {
   "cell_type": "code",
   "execution_count": 13,
   "metadata": {},
   "outputs": [],
   "source": [
    "input1='virhostnet-query.txt'\n",
    "output1='hpi-'+input1\n",
    "both2='both-'+input1\n",
    "pathogen3='pathogen-'+input1"
   ]
  },
  {
   "cell_type": "code",
   "execution_count": 14,
   "metadata": {},
   "outputs": [
    {
     "data": {
      "text/plain": [
       "35"
      ]
     },
     "execution_count": 14,
     "metadata": {},
     "output_type": "execute_result"
    }
   ],
   "source": [
    "# set output file for writing\n",
    "fieldnames = [ 'SN', 'protein1', 'protein2', 'host', 'partner']\n",
    "csvfile1=open(output1, 'w', newline='')\n",
    "#fieldnames = ['SN', 'protein1', 'protein2', 'host', 'partner']\n",
    "output = csv.DictWriter(csvfile1,fieldnames=fieldnames, delimiter='\\t')\n",
    "output.writeheader()\n",
    "\n",
    "csvfile2=open(both2, 'w', newline='')\n",
    "#fieldnames = ['SN', 'protein1', 'protein2', 'host', 'partner']\n",
    "both = csv.DictWriter(csvfile2,fieldnames=fieldnames, delimiter='\\t')\n",
    "both.writeheader()\n",
    "\n",
    "csvfile3=open(pathogen3, 'w', newline='')\n",
    "#fieldnames = ['SN', 'protein1', 'protein2', 'host', 'partner']\n",
    "path = csv.DictWriter(csvfile3,fieldnames=fieldnames, delimiter='\\t')\n",
    "path.writeheader()\n",
    "#path.writerow({'SN': '1', 'protein1': 'protein1', 'protein2': 'protein2' , 'host': 'host', 'partner': 'partner2'})"
   ]
  },
  {
   "cell_type": "code",
   "execution_count": 15,
   "metadata": {},
   "outputs": [],
   "source": [
    "with open(input1) as csvfile:\n",
    "    hpi = csv.reader(csvfile, delimiter='\\t')\n",
    "    #next(hpi, None)  # skip the headers\n",
    "    for i, row in enumerate(hpi):\n",
    "        if i >= 0:\n",
    "            #print(row[0], row[1], row[9],row[10])\n",
    "            #remove PRO\n",
    "            row[0]=row[0].split('-PRO_')[0]\n",
    "            row[1]=row[1].split('-PRO_')[0]\n",
    "            # search for homo sapiens 9606\n",
    "            pattern1=r'\\b9606\\b.*'\n",
    "            # search for pair\n",
    "            pattern2= r\"\\b9606\\b[^:].*\\b9606\\b.*\"\n",
    "            #print(row[2]+row[3])\n",
    "            string=row[9]+'\\t'+row[10]\n",
    "            host=row[9]\n",
    "            pathogen=row[10]\n",
    "            if re.search(pattern2, string):\n",
    "                protein1=row[0]\n",
    "                protein2=row[1]\n",
    "                host=row[9]\n",
    "                partner2=row[10]\n",
    "                both.writerow({'SN': i, 'protein1': protein1, 'protein2': protein2 , 'host': host, 'partner': partner2})\n",
    "            elif re.search(pattern1, host):\n",
    "                protein1=row[0]\n",
    "                protein2=row[1]\n",
    "                #host=row[2]\n",
    "                # for homogenious hame of host\n",
    "                host='9606(Homo sapiens)'\n",
    "                partner2=pathogen\n",
    "                output.writerow({'SN': i, 'protein1': protein1, 'protein2': protein2 , 'host': host, 'partner': partner2} )            \n",
    "                #print(string)\n",
    "            elif re.search(pattern1, pathogen):\n",
    "                #print(row[0], row[1], row[9],row[10])\n",
    "                protein1=row[1] # interchange of protein\n",
    "                protein2=row[0]\n",
    "                #host=row[3]\n",
    "                # for homogenious hame of host\n",
    "                host='9606(Homo sapiens)'\n",
    "                partner2=row[9]\n",
    "                output.writerow({'SN': i, 'protein1': protein1, 'protein2': protein2 , 'host': host, 'partner': partner2})\n",
    "            else:\n",
    "                #print(row[0], row[1], row[9],row[10])\n",
    "                protein1=row[0]\n",
    "                protein2=row[1]\n",
    "                host=row[9]\n",
    "                partner2=row[10]\n",
    "                path.writerow({'SN': i, 'protein1': row[0] , 'protein2': row[1] , 'host': row[9], 'partner': row[10]} )\n",
    "                #pathogen.writerow({'SN': i, 'protein1': protein1, 'protein2': protein2 , 'host': host, 'partner': partner2})\n",
    "                #print(\"No match\",row)\n",
    "\n",
    "csvfile1.flush()\n",
    "csvfile2.flush()\n",
    "csvfile3.flush()"
   ]
  },
  {
   "cell_type": "code",
   "execution_count": 16,
   "metadata": {},
   "outputs": [
    {
     "name": "stdout",
     "output_type": "stream",
     "text": [
      "==> hpi-virhostnet-query.txt <==\n",
      "SN\tprotein1\tprotein2\thost\tpartner\n",
      "0\tuniprotkb:Q6P4E1\tuniprotkb:Q32ZE1\t9606(Homo sapiens)\ttaxid:64320\n",
      "1\tuniprotkb:Q6P4E1\tuniprotkb:Q6SWB8\t9606(Homo sapiens)\ttaxid:295027\n",
      "\n",
      "==> both-virhostnet-query.txt <==\n",
      "SN\tprotein1\tprotein2\thost\tpartner\n",
      "3308\tuniprotkb:Q8WYN0\tuniprotkb:O95166\ttaxid:9606\ttaxid:9606\n",
      "3310\tuniprotkb:Q8WYN0\tuniprotkb:Q9BXW4\ttaxid:9606\ttaxid:9606\n",
      "\n",
      "==> pathogen-virhostnet-query.txt <==\n",
      "SN\tprotein1\tprotein2\thost\tpartner\n",
      "69\tuniprotkb:Q6QCJ7\tuniprotkb:G9IV65\ttaxid:10335\ttaxid:10335\n",
      "70\tuniprotkb:Q6QCJ7\tuniprotkb:G9IV65\ttaxid:10335\ttaxid:10335\n",
      "  33301 hpi-virhostnet-query.txt\n",
      "    159 both-virhostnet-query.txt\n",
      "   5185 pathogen-virhostnet-query.txt\n",
      "  38645 total\n"
     ]
    }
   ],
   "source": [
    "! head -n3 {output1} {both2} {pathogen3}\n",
    "! wc -l {output1} {both2} {pathogen3}\n",
    "#! rm {output1} {both2} {pathogen3}"
   ]
  },
  {
   "cell_type": "code",
   "execution_count": 17,
   "metadata": {},
   "outputs": [
    {
     "name": "stdout",
     "output_type": "stream",
     "text": [
      "33458\r\n",
      "38642 virhostnet-query.txt\r\n"
     ]
    }
   ],
   "source": [
    "! grep -c 'taxid:9606' {input1} ; wc -l {input1}"
   ]
  },
  {
   "cell_type": "code",
   "execution_count": 18,
   "metadata": {},
   "outputs": [
    {
     "name": "stdout",
     "output_type": "stream",
     "text": [
      "30193\n",
      "34307\n"
     ]
    }
   ],
   "source": [
    "! tail -n +2 hpi-{input1} |cut -f2,3|sort -u|wc -l ; tail -n +2 {input1} |cut -f1,2|sort -u|wc -l"
   ]
  },
  {
   "cell_type": "code",
   "execution_count": 19,
   "metadata": {},
   "outputs": [
    {
     "name": "stdout",
     "output_type": "stream",
     "text": [
      "246\n",
      "7462\n",
      "994\n"
     ]
    }
   ],
   "source": [
    "# check filterd HPI for human host-virus\n",
    "! tail -n +2  hpi-{input1}|cut -f5|sort -u|wc -l\n",
    "! tail -n +2  hpi-{input1}|cut -f2|sort -u|wc -l\n",
    "! tail -n +2  hpi-{input1}|cut -f3|sort -u|wc -l"
   ]
  },
  {
   "cell_type": "code",
   "execution_count": 20,
   "metadata": {},
   "outputs": [
    {
     "name": "stdout",
     "output_type": "stream",
     "text": [
      "0\r\n"
     ]
    }
   ],
   "source": [
    "! tail -n +2 {input1}|cut -f10|grep '9606'| grep 'sapiens'|sort -u|wc -l"
   ]
  },
  {
   "cell_type": "code",
   "execution_count": 21,
   "metadata": {},
   "outputs": [
    {
     "name": "stdout",
     "output_type": "stream",
     "text": [
      "51\r\n"
     ]
    }
   ],
   "source": [
    "# Bos taurus\n",
    "! grep  -w 'taxid:9913' {input1}|cut -f1,2,10,11|sort -u|wc -l"
   ]
  },
  {
   "cell_type": "code",
   "execution_count": 22,
   "metadata": {},
   "outputs": [
    {
     "name": "stdout",
     "output_type": "stream",
     "text": [
      "30419\r\n"
     ]
    }
   ],
   "source": [
    "#Homo sapiens\n",
    "! grep  -w 'taxid:9606' {input1}|cut -f1,2,10,11|sort -u|wc -l"
   ]
  },
  {
   "cell_type": "code",
   "execution_count": 23,
   "metadata": {},
   "outputs": [
    {
     "name": "stdout",
     "output_type": "stream",
     "text": [
      "34307\n",
      "30193\n",
      "994\n",
      "1\n",
      "246\n"
     ]
    }
   ],
   "source": [
    "# total stats check for VirHostNet\n",
    "! tail -n +2 {input1}|cut -f1,2|sort -u|wc -l\n",
    "! tail -n +2 hpi-{input1}|cut -f2,3|sort -u|wc -l\n",
    "! tail -n +2 hpi-{input1}|cut -f3|sort -u|wc -l\n",
    "! tail -n +2 hpi-{input1}|cut -f4|sort -u|wc -l\n",
    "! tail -n +2 hpi-{input1}|cut -f5|sort -u|wc -l\n"
   ]
  },
  {
   "cell_type": "code",
   "execution_count": 24,
   "metadata": {},
   "outputs": [
    {
     "name": "stdout",
     "output_type": "stream",
     "text": [
      "      1 taxid-path-hpi-virhostnet-query.txt\n",
      "    246 path-hpi-virhostnet-query.txt\n",
      "  33301 hpi-virhostnet-query.txt\n",
      "  33548 total\n",
      "  492 mapping-taxid-246-pathogen.virus-virhostnet.txt\n",
      "  246 path-hpi-virhostnet-query.txt\n",
      "  245 taxid-246-pathogen.virus-virhostnet.txt\n",
      "  983 total\n"
     ]
    }
   ],
   "source": [
    "# get uniq pathogen taxid\n",
    "! tail -n +2 {output1}|cut -f5|sort -u > path-hpi-{input1}\n",
    "#! cat path-hpi-{input1}|cut -f2 -d':'|sort -un|uniq > taxid-path-hpi-{input1}\n",
    "! wc -l taxid-path-hpi-{input1} path-hpi-{input1} {output1}\n",
    "#! head -n3  taxid-path-hpi-{input1}\n",
    "\n",
    "# merge taxid for manual comparison list\n",
    "ncbi_taxid='taxid-246-pathogen.virus-virhostnet.txt'\n",
    "! cat path-hpi-{input1} {ncbi_taxid} |sort -u > mapping-taxid-246-pathogen.virus-virhostnet.txt\n",
    "! wc -l mapping-taxid-246-pathogen.virus-virhostnet.txt path-hpi-{input1} {ncbi_taxid}"
   ]
  },
  {
   "cell_type": "code",
   "execution_count": 25,
   "metadata": {},
   "outputs": [
    {
     "name": "stdout",
     "output_type": "stream",
     "text": [
      "34307\n",
      "6717\n",
      "6551\n",
      "215\n",
      "297\n",
      "33300\n",
      "7462\n",
      "994\n",
      "1\n",
      "33458\n",
      "38642 virhostnet-query.txt\n",
      "taxid:10243\n",
      "taxid:10245\n",
      "taxid:10254\n",
      "taxid:10255\n",
      "taxid:10280\n",
      "taxid:10298\n",
      "taxid:10299\n",
      "taxid:10310\n",
      "taxid:10312\n",
      "taxid:10320\n"
     ]
    }
   ],
   "source": [
    "# total stats check for VirHostNet\n",
    "! tail -n +2 {input1}|cut -f1,2|sort -u|wc -l\n",
    "! tail -n +2 {input1}|cut -f1|sort -u|wc -l\n",
    "! tail -n +2 {input1}|cut -f2|sort -u|wc -l\n",
    "! tail -n +2 {input1}|cut -f10|sort -u|wc -l\n",
    "! tail -n +2 {input1}|cut -f11|sort -u|wc -l\n",
    "# check filterd HPI for human host-virus\n",
    "! tail -n +2  hpi-{input1}|cut -f1|sort -u|wc -l\n",
    "! tail -n +2  hpi-{input1}|cut -f2|sort -u|wc -l\n",
    "! tail -n +2  hpi-{input1}|cut -f3|sort -u|wc -l\n",
    "! tail -n +2  hpi-{input1}|cut -f4|sort -u|wc -l\n",
    "! grep -c 'taxid:9606' {input1} ; wc -l {input1}\n",
    "! head -n3 path-hpi-{input1}\n",
    "#! grep '64320\\|295027\\|694009' mapping-taxid-246-pathogen.virus-virhostnet.txt  > map2"
   ]
  },
  {
   "cell_type": "code",
   "execution_count": null,
   "metadata": {},
   "outputs": [],
   "source": [
    "'''this is the fuction for search and replace using file'''\n",
    "import fileinput\n",
    "import re\n",
    "mapping_taxid='map2' #two column tab saprated file for existing and replace item\n",
    "def update_taxid(path_taxid):\n",
    "    with fileinput.input(files=(mapping_taxid)) as f:\n",
    "        for line in f:\n",
    "            #process(line)\n",
    "            #for line in fileinput.input(files='map2', inplace=False, mode='r'):\n",
    "            taxid=line.split('\\t')\n",
    "            #line = re.sub( taxid[0] ,taxid[1], line.rstrip())\n",
    "            if re.search( taxid[0], path_taxid):\n",
    "                new_taxid = re.sub( taxid[0] ,taxid[1], path_taxid)\n",
    "                return str(new_taxid[:-2])\n",
    "            #else:\n",
    "            #    pass\n",
    "                #return path_taxid\n",
    "    fileinput.nextfile()\n",
    "tid='taxid:694009'\n",
    "update_taxid(tid)"
   ]
  }
 ],
 "metadata": {
  "kernelspec": {
   "display_name": "Python 3",
   "language": "python",
   "name": "python3"
  },
  "language_info": {
   "codemirror_mode": {
    "name": "ipython",
    "version": 3
   },
   "file_extension": ".py",
   "mimetype": "text/x-python",
   "name": "python",
   "nbconvert_exporter": "python",
   "pygments_lexer": "ipython3",
   "version": "3.8.5"
  }
 },
 "nbformat": 4,
 "nbformat_minor": 4
}
