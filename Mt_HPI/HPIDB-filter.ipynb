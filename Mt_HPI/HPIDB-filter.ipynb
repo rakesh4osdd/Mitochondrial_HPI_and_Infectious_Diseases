{
 "cells": [
  {
   "cell_type": "code",
   "execution_count": 59,
   "metadata": {},
   "outputs": [],
   "source": [
    "# #This  program is created by rakesh from crddmirror system on Tue 01 Dec 2020 11:22:29 PM IST.\n",
    "#License: Attribution-NonCommercial-ShareAlike 4.0 International. For feedback, please email at rakesh4osdd@gmail.com\n",
    "# check for updated code jupyter file name 'hpidb2.mitab_plus.txt' in MITAB 2.5 format\n",
    "import csv\n",
    "import re\n",
    "import fileinput"
   ]
  },
  {
   "cell_type": "code",
   "execution_count": 60,
   "metadata": {},
   "outputs": [],
   "source": [
    "# define input and output file with taxid mapping file\n",
    "input1='hpidb2.mitab_plus.txt'\n",
    "output1='hpi-'+input1\n",
    "both2='both-'+input1\n",
    "pathogen3='pathogen-'+input1\n",
    "mapping_taxid='mapping-734_taxid_hpidb.tsv'"
   ]
  },
  {
   "cell_type": "code",
   "execution_count": 36,
   "metadata": {},
   "outputs": [
    {
     "data": {
      "text/plain": [
       "65"
      ]
     },
     "execution_count": 36,
     "metadata": {},
     "output_type": "execute_result"
    }
   ],
   "source": [
    "# set output file for writing\n",
    "#fieldnames = [ 'SN', 'protein1', 'protein2', 'host', 'partner']\n",
    "fieldnames = [ 'host_protein1', 'pathogen_protein2', 'host', 'pathogen', 'pathogen_category']\n",
    "csvfile1=open(output1, 'w', newline='')\n",
    "#fieldnames = ['SN', 'protein1', 'protein2', 'host', 'partner']\n",
    "output = csv.DictWriter(csvfile1,fieldnames=fieldnames, delimiter='\\t')\n",
    "output.writeheader()\n",
    "\n",
    "csvfile2=open(both2, 'w', newline='')\n",
    "#fieldnames = ['SN', 'protein1', 'protein2', 'host', 'partner']\n",
    "both = csv.DictWriter(csvfile2,fieldnames=fieldnames, delimiter='\\t')\n",
    "both.writeheader()\n",
    "\n",
    "csvfile3=open(pathogen3, 'w', newline='')\n",
    "#fieldnames = ['SN', 'protein1', 'protein2', 'host', 'partner']\n",
    "path = csv.DictWriter(csvfile3,fieldnames=fieldnames, delimiter='\\t')\n",
    "path.writeheader()\n",
    "#path.writerow({'SN': '1', 'protein1': 'protein1', 'protein2': 'protein2' , 'host': 'host', 'partner': 'partner2'})"
   ]
  },
  {
   "cell_type": "code",
   "execution_count": 37,
   "metadata": {},
   "outputs": [],
   "source": [
    "def update_taxid(path_taxid):\n",
    "    with fileinput.input(mapping_taxid) as f:\n",
    "        for line in f:\n",
    "            taxid=line.split('\\t')\n",
    "            if re.search( rf'\\b{taxid[0]}\\b', path_taxid):\n",
    "                return str(taxid[1][:-2])\n",
    "#update_taxid('taxid:272624')"
   ]
  },
  {
   "cell_type": "code",
   "execution_count": 38,
   "metadata": {},
   "outputs": [],
   "source": [
    "# code for filter MI-TAB 2.5 file | col16,17,10,11\n",
    "with open(input1, encoding='utf-8', errors='ignore') as csvfile:\n",
    "    hpi = csv.reader(csvfile, delimiter='\\t')\n",
    "    next(hpi, None)  # skip the headers\n",
    "    for i, row in enumerate(hpi):\n",
    "        if i >=0 :\n",
    "            #print(row[16])\n",
    "            #remove PRO and extract ':' saparated id\n",
    "            row[15]=row[15].split('-PRO_')[0].split(':')[1]\n",
    "            row[16]=row[16].split('-PRO_')[0].split(':')[1]\n",
    "            protein1=row[15]\n",
    "            protein2=row[16]\n",
    "            # search for homo sapiens 9606\n",
    "            pattern1=r'\\b9606\\b.*'\n",
    "            # search for pair\n",
    "            pattern2= r\"\\b9606\\b[^:].*\\b9606\\b.*\"\n",
    "            #print(row[2]+row[3])\n",
    "            string=row[9]+'\\t'+row[10]\n",
    "            host=row[9]\n",
    "            pathogen=row[10]\n",
    "            #print(row[0], row[1], row[9],update_taxid(row[10]))\n",
    "            if re.search(pattern2, string):\n",
    "                partner2=pathogen\n",
    "                #both.writerow({'SN': i, 'host_protein1': protein1, 'pathogen_protein2': protein2 , 'host': host, 'pathogen': partner2})\n",
    "                both.writerow({'host_protein1': protein1, 'pathogen_protein2': protein2 , 'host': host, 'pathogen': partner2, 'pathogen_category': row[18]})\n",
    "            elif re.search(pattern1, host):\n",
    "                # for homogenious hame of host\n",
    "                host='taxid:9606(Homo sapiens)'\n",
    "                partner2= update_taxid(pathogen)\n",
    "                #output.writerow({'SN': i, 'host_protein1': protein1, 'pathogen_protein2': protein2 , 'host': host, 'pathogen': partner2})\n",
    "                output.writerow({'host_protein1': protein1, 'pathogen_protein2': protein2 , 'host': host, 'pathogen': partner2, 'pathogen_category': row[18]}) \n",
    "            elif re.search(pattern1, pathogen):\n",
    "                #print(row[0], row[1], row[9],row[10])\n",
    "                protein1=row[16] # interchange of protein\n",
    "                protein2=row[15]\n",
    "                # for homogenious hame of host\n",
    "                host='taxid:9606(Homo sapiens)'\n",
    "                partner2=update_taxid(row[9])\n",
    "                #output.writerow({'SN': i, 'host_protein1': protein1, 'pathogen_protein2': protein2 , 'host': host, 'pathogen': partner2})\n",
    "                output.writerow({'host_protein1': protein1, 'pathogen_protein2': protein2 , 'host': host, 'pathogen': partner2, 'pathogen_category': row[18]})\n",
    "            else:\n",
    "                #print(row[0], row[1], row[9],row[10])\n",
    "                partner2=pathogen\n",
    "                path.writerow({'host_protein1': row[15] , 'pathogen_protein2': row[16] , 'host': row[9], 'pathogen': row[10], 'pathogen_category': row[18]})\n",
    "                #print(\"No match\",row)\n",
    "\n",
    "csvfile1.flush()\n",
    "csvfile2.flush()\n",
    "csvfile3.flush()"
   ]
  },
  {
   "cell_type": "code",
   "execution_count": 39,
   "metadata": {
    "scrolled": true
   },
   "outputs": [
    {
     "name": "stdout",
     "output_type": "stream",
     "text": [
      "==> hpi-hpidb2.mitab_plus.txt <==\n",
      "host_protein1\tpathogen_protein2\thost\tpathogen\tpathogen_category\n",
      "P62820\tQ5ZWZ3\ttaxid:9606(Homo sapiens)\ttaxid:272624(Legionella pneumophila subsp. pneumophila str. Philadelphia 1)\tBACTERIA\n",
      "\n",
      "==> both-hpidb2.mitab_plus.txt <==\n",
      "host_protein1\tpathogen_protein2\thost\tpathogen\tpathogen_category\n",
      "\n",
      "==> pathogen-hpidb2.mitab_plus.txt <==\n",
      "host_protein1\tpathogen_protein2\thost\tpathogen\tpathogen_category\n",
      "P22518\tQ5ZRQ0\ttaxid:10090(mouse|Mus musculus)\ttaxid:272624(legph|Legionella pneumophila subsp. pneumophila)\tBACTERIA\n",
      "  66033 hpi-hpidb2.mitab_plus.txt\n",
      "      1 both-hpidb2.mitab_plus.txt\n",
      "   3756 pathogen-hpidb2.mitab_plus.txt\n",
      "  69790 total\n",
      "69788 hpidb2.mitab_plus.txt\n",
      "50256\n",
      "54879\n"
     ]
    }
   ],
   "source": [
    "# check output files and stats\n",
    "! head -n2 {output1} {both2} {pathogen3}\n",
    "! wc -l {output1} {both2} {pathogen3} ; wc -l {input1}\n",
    "#! rm {output1} {both2} {pathogen3}\n",
    "! tail -n +2 hpi-{input1} |cut -f1,2|sort -u|wc -l ; \n",
    "! tail -n +2 {input1} |cut -f1,2|sort -u|wc -l"
   ]
  },
  {
   "cell_type": "code",
   "execution_count": 40,
   "metadata": {},
   "outputs": [],
   "source": [
    "csvfile1.close()\n",
    "csvfile2.close()\n",
    "csvfile3.close()"
   ]
  },
  {
   "cell_type": "code",
   "execution_count": 41,
   "metadata": {},
   "outputs": [
    {
     "name": "stdout",
     "output_type": "stream",
     "text": [
      "28647 mnDNA_hpi-hpidb2.mitab_plus.txt\n",
      "66033 hpi-hpidb2.mitab_plus.txt\n",
      "==> mnDNA_hpi-hpidb2.mitab_plus.txt <==\n",
      "host_protein1\tpathogen_protein2\thost\tpathogen\tpathogen_category\n",
      "P62820\tQ5ZWZ3\ttaxid:9606(Homo sapiens)\ttaxid:272624(Legionella pneumophila subsp. pneumophila str. Philadelphia 1)\tBACTERIA\n",
      "\n",
      "==> hpi-hpidb2.mitab_plus.txt <==\n",
      "host_protein1\tpathogen_protein2\thost\tpathogen\tpathogen_category\n",
      "P62820\tQ5ZWZ3\ttaxid:9606(Homo sapiens)\ttaxid:272624(Legionella pneumophila subsp. pneumophila str. Philadelphia 1)\tBACTERIA\n"
     ]
    }
   ],
   "source": [
    "# check for Mt Protein exist in the hpi-{input1} file using Mt_Proteins_7432_working_uniprot_ids.txt and mt-protein-uniprot.txt\n",
    "! head -n1 hpi-{input1} > mnDNA_hpi-{input1}\n",
    "! grep -a -w -f ../Mt_Proteins_7432_working_uniprot_ids.txt hpi-{input1} >> mnDNA_hpi-{input1}\n",
    "! wc -l mnDNA_hpi-{input1}; wc -l hpi-{input1}\n",
    "! head -n2 mnDNA_hpi-{input1} hpi-{input1}"
   ]
  },
  {
   "cell_type": "code",
   "execution_count": 42,
   "metadata": {},
   "outputs": [
    {
     "name": "stdout",
     "output_type": "stream",
     "text": [
      "['2733', 'host_protein1'] ['3707', 'pathogen_protein2'] ['1', 'host'] ['410', 'pathogen'] ['22325', 'host_protein1\\tpathogen_protein2'] ['22669', 'host_protein1\\tpathogen_protein2\\thost\\tpathogen\\tpathogen_category']\n"
     ]
    }
   ],
   "source": [
    "# summay count uniq values in each column of the mt protein HPI file\n",
    "c1 = ! tail -n +2 mnDNA_hpi-{input1}|cut -f1|sort -u|wc -l ; head -n1 mnDNA_hpi-{input1} |cut -f1\n",
    "c2 = ! tail -n +2 mnDNA_hpi-{input1}|cut -f2|sort -u|wc -l ; head -n1 mnDNA_hpi-{input1} |cut -f2\n",
    "c3 = ! tail -n +2 mnDNA_hpi-{input1}|cut -f3|sort -u|wc -l ; head -n1 mnDNA_hpi-{input1} |cut -f3\n",
    "c4 = ! tail -n +2 mnDNA_hpi-{input1}|cut -f4|sort -u|wc -l ; head -n1 mnDNA_hpi-{input1} |cut -f4\n",
    "c12 = ! tail -n +2 mnDNA_hpi-{input1}|cut -f1,2|sort -u|wc -l ; head -n1 mnDNA_hpi-{input1} |cut -f1,2\n",
    "c_all = ! tail -n +2 mnDNA_hpi-{input1}|sort -u|wc -l ; head -n1 mnDNA_hpi-{input1}\n",
    "print (c1,c2,c3,c4,c12, c_all)"
   ]
  },
  {
   "cell_type": "code",
   "execution_count": 43,
   "metadata": {},
   "outputs": [
    {
     "name": "stdout",
     "output_type": "stream",
     "text": [
      "    110 mDNA_hpi-hpidb2.mitab_plus.txt\n",
      "  28538 nDNA_hpi-hpidb2.mitab_plus.txt\n",
      "  28648 total\n",
      "28647 mnDNA_hpi-hpidb2.mitab_plus.txt\n",
      "==> mDNA_hpi-hpidb2.mitab_plus.txt <==\n",
      "host_protein1\tpathogen_protein2\thost\tpathogen\tpathogen_category\n",
      "P00403\tP03431\ttaxid:9606(Homo sapiens)\ttaxid:211044(Influenza A virus (A/Puerto Rico/8/1934(H1N1)))\tVIRUS\n",
      "P00403\tP03428\ttaxid:9606(Homo sapiens)\ttaxid:211044(Influenza A virus (A/Puerto Rico/8/1934(H1N1)))\tVIRUS\n",
      "\n",
      "==> nDNA_hpi-hpidb2.mitab_plus.txt <==\n",
      "host_protein1\tpathogen_protein2\thost\tpathogen\tpathogen_category\n",
      "P62820\tQ5ZWZ3\ttaxid:9606(Homo sapiens)\ttaxid:272624(Legionella pneumophila subsp. pneumophila str. Philadelphia 1)\tBACTERIA\n",
      "P60953\tA0A0H2ZTM2\ttaxid:9606(Homo sapiens)\ttaxid:243243(Mycobacterium avium 104)\tBACTERIA\n",
      "\n",
      "==> mnDNA_hpi-hpidb2.mitab_plus.txt <==\n",
      "host_protein1\tpathogen_protein2\thost\tpathogen\tpathogen_category\n",
      "P62820\tQ5ZWZ3\ttaxid:9606(Homo sapiens)\ttaxid:272624(Legionella pneumophila subsp. pneumophila str. Philadelphia 1)\tBACTERIA\n",
      "P60953\tA0A0H2ZTM2\ttaxid:9606(Homo sapiens)\ttaxid:243243(Mycobacterium avium 104)\tBACTERIA\n"
     ]
    }
   ],
   "source": [
    "# split file into mDNA and nDNA list\n",
    "! grep -a -v -w -f ../mt-protein-uniprot.txt mnDNA_hpi-{input1} > nDNA_hpi-{input1}\n",
    "! head -n1 mnDNA_hpi-{input1} > mDNA_hpi-{input1}\n",
    "! grep -a -w -f ../mt-protein-uniprot.txt mnDNA_hpi-{input1} >> mDNA_hpi-{input1}\n",
    "! wc -l mDNA_hpi-{input1} nDNA_hpi-{input1} ; wc -l mnDNA_hpi-{input1}\n",
    "! head -n3 mDNA_hpi-{input1} nDNA_hpi-{input1} mnDNA_hpi-{input1}"
   ]
  },
  {
   "cell_type": "code",
   "execution_count": 44,
   "metadata": {},
   "outputs": [],
   "source": [
    "# to create mapping file\n",
    "#! tail -n +2 mnDNA_hpi-{input1}|cut -f4|sort -u > 557_pathogen_taxid.txt"
   ]
  },
  {
   "cell_type": "code",
   "execution_count": 45,
   "metadata": {},
   "outputs": [
    {
     "name": "stdout",
     "output_type": "stream",
     "text": [
      "557 557_pathogen_taxid.txt\n",
      "host_protein1\tpathogen_protein2\thost\tpathogen\tpathogen_category\n",
      "P62820\tQ5ZWZ3\ttaxid:9606(Homo sapiens)\ttaxid:272624(Legionella pneumophila subsp. pneumophila str. Philadelphia 1)\tBACTERIA\n",
      "P60953\tA0A0H2ZTM2\ttaxid:9606(Homo sapiens)\ttaxid:243243(Mycobacterium avium 104)\tBACTERIA\n"
     ]
    }
   ],
   "source": [
    "!wc -l 557_pathogen_taxid.txt\n",
    "! head -n3 mnDNA_hpi-{input1}"
   ]
  },
  {
   "cell_type": "code",
   "execution_count": 46,
   "metadata": {},
   "outputs": [],
   "source": [
    "# to create mapping file\n",
    "#! cat 557_pathogen_taxid.txt 557_pathogen_taxid_ncbi.txt |sort > mapping_557_pathogen_taxid.txt"
   ]
  },
  {
   "cell_type": "code",
   "execution_count": 47,
   "metadata": {},
   "outputs": [
    {
     "name": "stdout",
     "output_type": "stream",
     "text": [
      "host_protein1\tpathogen_protein2\thost\tpathogen\tpathogen_category\r",
      "\r\n",
      "P62820\tQ5ZWZ3\ttaxid:9606(Homo sapiens)\ttaxid:272624(Legionella pneumophila subsp. pneumophila str. Philadelphia 1)\tBACTERIA\r",
      "\r\n"
     ]
    }
   ],
   "source": [
    "! head -n2 mnDNA_hpi-{input1}"
   ]
  },
  {
   "cell_type": "code",
   "execution_count": 48,
   "metadata": {},
   "outputs": [
    {
     "name": "stdout",
     "output_type": "stream",
     "text": [
      "     1 mDNA_hpi-BACTERIA-hpidb2.mitab_plus.txt\n",
      "  3180 nDNA_hpi-BACTERIA-hpidb2.mitab_plus.txt\n",
      "  3181 total\n",
      "1 mDNA_hpi-BACTERIA-hpidb2.mitab_plus.txt\n",
      "host_protein1 0\n",
      "pathogen_protein2 0\n",
      "host 0\n",
      "pathogen 0\n",
      "3180 nDNA_hpi-BACTERIA-hpidb2.mitab_plus.txt\n",
      "host_protein1 1088\n",
      "pathogen_protein2 1630\n",
      "host 1\n",
      "pathogen 55\n",
      "    110 mDNA_hpi-VIRUS-hpidb2.mitab_plus.txt\n",
      "  22930 nDNA_hpi-VIRUS-hpidb2.mitab_plus.txt\n",
      "  23040 total\n",
      "110 mDNA_hpi-VIRUS-hpidb2.mitab_plus.txt\n",
      "host_protein1 13\n",
      "pathogen_protein2 50\n",
      "host 1\n",
      "pathogen 33\n",
      "22930 nDNA_hpi-VIRUS-hpidb2.mitab_plus.txt\n",
      "host_protein1 2364\n",
      "pathogen_protein2 1015\n",
      "host 1\n",
      "pathogen 340\n"
     ]
    }
   ],
   "source": [
    "#split file into virus and bacteria and mDNA, nDNA with stats\n",
    "\"\"\"! head -n1 mnDNA_hpi-{input1} | cut -f1-4 > mnDNA_hpi-bacteria-{input1}\n",
    "! grep -w 'BACTERIA' mnDNA_hpi-{input1} | cut -f1-4 >> mnDNA_hpi-bacteria-{input1}\n",
    "! head -n1 mnDNA_hpi-{input1} | cut -f1-4 > mnDNA_hpi-virus-{input1}\n",
    "! grep -w 'VIRUS' mnDNA_hpi-{input1} | cut -f1-4 >> mnDNA_hpi-virus-{input1}\n",
    "! wc -l  mnDNA_hpi-bacteria-{input1} mnDNA_hpi-virus-{input1} ; wc -l mnDNA_hpi-{input1}\n",
    "! head -n3 mnDNA_hpi-{input1}  mnDNA_hpi-virus-{input1} mnDNA_hpi-{input1}\"\"\"\n",
    "\n",
    "pathogen_type=['BACTERIA', 'VIRUS']\n",
    "for pt in pathogen_type:\n",
    "    ! head -n1 mnDNA_hpi-{input1} | cut -f1-4 > mnDNA_hpi-{pt}-{input1}\n",
    "    ! grep -w {pt} mnDNA_hpi-{input1} | cut -f1-4 >> mnDNA_hpi-{pt}-{input1}\n",
    "    ! head -n1 mnDNA_hpi-{pt}-{input1} > mDNA_hpi-{pt}-{input1}\n",
    "    ! grep -a -w -f ../mt-protein-uniprot.txt mnDNA_hpi-{pt}-{input1} >> mDNA_hpi-{pt}-{input1}\n",
    "    ! grep -a -v -w -f ../mt-protein-uniprot.txt mnDNA_hpi-{pt}-{input1} > nDNA_hpi-{pt}-{input1}\n",
    "    ! wc -l mDNA_hpi-{pt}-{input1} nDNA_hpi-{pt}-{input1}\n",
    "    mnDNA= ! ls mDNA_hpi-{pt}-{input1} nDNA_hpi-{pt}-{input1}\n",
    "    for db_list in mnDNA:\n",
    "        ! wc -l {db_list}\n",
    "        for i in range(4):\n",
    "            header = ! head -n1 {db_list} |cut -f{i+1}\n",
    "            count = ! tail -n +2 {db_list} |cut -f{i+1}  |sort -u|wc -l\n",
    "            print (header[0], count[0]) "
   ]
  },
  {
   "cell_type": "code",
   "execution_count": 49,
   "metadata": {},
   "outputs": [
    {
     "name": "stdout",
     "output_type": "stream",
     "text": [
      "AMOEBOZOA\r",
      "\r\n",
      "FUNGI\r",
      "\r\n",
      "pathogen_category\r",
      "\r\n",
      "PROTOZOA\r",
      "\r\n"
     ]
    }
   ],
   "source": [
    "! grep -v 'BACTERIA\\|VIRUS' mnDNA_hpi-{input1}|cut -f5|sort -u"
   ]
  },
  {
   "cell_type": "code",
   "execution_count": 51,
   "metadata": {},
   "outputs": [
    {
     "name": "stdout",
     "output_type": "stream",
     "text": [
      "18210\r\n"
     ]
    }
   ],
   "source": [
    "! sort -u mnDNA_hpi-VIRUS-hpidb2.mitab_plus.txt|uniq |wc -l"
   ]
  },
  {
   "cell_type": "code",
   "execution_count": 53,
   "metadata": {},
   "outputs": [
    {
     "name": "stdout",
     "output_type": "stream",
     "text": [
      "5.8M\thpi-hpidb2.mitab_plus.txt\r\n"
     ]
    }
   ],
   "source": [
    "! du -sh hpi-hpidb2.mitab_plus.txt"
   ]
  },
  {
   "cell_type": "code",
   "execution_count": 54,
   "metadata": {},
   "outputs": [
    {
     "name": "stdout",
     "output_type": "stream",
     "text": [
      "host_protein1\tpathogen_protein2\thost\tpathogen\tpathogen_category\r",
      "\r\n",
      "P62820\tQ5ZWZ3\ttaxid:9606(Homo sapiens)\ttaxid:272624(Legionella pneumophila subsp. pneumophila str. Philadelphia 1)\tBACTERIA\r",
      "\r\n",
      "P60953\tA0A0H2ZTM2\ttaxid:9606(Homo sapiens)\ttaxid:243243(Mycobacterium avium 104)\tBACTERIA\r",
      "\r\n"
     ]
    }
   ],
   "source": [
    "! head -n3 hpi-hpidb2.mitab_plus.txt"
   ]
  },
  {
   "cell_type": "code",
   "execution_count": 57,
   "metadata": {},
   "outputs": [
    {
     "name": "stdout",
     "output_type": "stream",
     "text": [
      "9579\n",
      "5829\n",
      "1\n",
      "564\n"
     ]
    }
   ],
   "source": [
    "! tail -n +2 hpi-hpidb2.mitab_plus.txt|cut -f1|sort -u|wc -l\n",
    "! tail -n +2 hpi-hpidb2.mitab_plus.txt|cut -f2|sort -u|wc -l\n",
    "! tail -n +2 hpi-hpidb2.mitab_plus.txt|cut -f3|sort -u|wc -l\n",
    "! tail -n +2 hpi-hpidb2.mitab_plus.txt|cut -f4|sort -u|wc -l"
   ]
  },
  {
   "cell_type": "code",
   "execution_count": 58,
   "metadata": {},
   "outputs": [
    {
     "name": "stdout",
     "output_type": "stream",
     "text": [
      "66033 hpi-hpidb2.mitab_plus.txt\n",
      "host_protein1 9579\n",
      "pathogen_protein2 5829\n",
      "host 1\n",
      "pathogen 564\n"
     ]
    }
   ],
   "source": [
    "column4file='hpi-hpidb2.mitab_plus.txt'\n",
    "! wc -l {column4file}\n",
    "for i in range(4):\n",
    "    header = ! head -n1 {column4file} |cut -f{i+1}\n",
    "    count = ! tail -n +2 {column4file} |cut -f{i+1}  |sort -u|wc -l\n",
    "    print (header[0], count[0])"
   ]
  },
  {
   "cell_type": "code",
   "execution_count": 63,
   "metadata": {},
   "outputs": [
    {
     "name": "stdout",
     "output_type": "stream",
     "text": [
      "O00410-3\n",
      "O15294-3\n",
      "O15350-2\n",
      "O15350-3\n",
      "O15350-4\n",
      "O43852-3\n",
      "O95197-3\n",
      "O95292-2\n",
      "P02545-2\n",
      "P02545-3\n",
      "P06748-3\n",
      "P07900-2\n",
      "P07910-2\n",
      "P08631-2\n",
      "P20290-2\n",
      "P20807-4\n",
      "P21333-2\n",
      "P29590-2\n",
      "P29590-3\n",
      "P29590-4\n",
      "P29590-5\n",
      "P29590-8\n",
      "P35613-2\n",
      "P36956-4\n",
      "P37231-2\n",
      "P41235-2\n",
      "P46379-2\n",
      "P48960-2\n",
      "P54252-1\n",
      "P63010-2\n",
      "Q01082-3\n",
      "Q01105-2\n",
      "Q04323-2\n",
      "Q05086-2\n",
      "Q05086-3\n",
      "Q13554-3\n",
      "Q14141-4\n",
      "Q14596-2\n",
      "Q15019-3\n",
      "Q16630-2\n",
      "Q16630-3\n",
      "Q6RW13-2\n",
      "Q7Z6G3-2\n",
      "Q8NFF5-2\n",
      "Q96CV9-2\n",
      "Q96ED9-2\n",
      "Q96EY1-3\n",
      "Q96KN7-4\n",
      "Q9H0B3-3\n",
      "Q9HCM9-2\n",
      "Q9NQC3-3\n",
      "Q9NZL4-3\n",
      "Q9UH92-3\n",
      "Q9UM00-1\n",
      "Q9Y2Z0-2\n",
      "Q9Y5P4-2\n",
      "Q9Y6N9-4\n"
     ]
    }
   ],
   "source": [
    "!  grep -a -w -f ../Mt_Proteins_7432_working_uniprot_ids.txt hpi-{input1}|cut -f1|sort -u|grep '-'"
   ]
  },
  {
   "cell_type": "code",
   "execution_count": 64,
   "metadata": {},
   "outputs": [],
   "source": [
    "! grep '-' ../Mt_Proteins_7432_working_uniprot_ids.txt"
   ]
  },
  {
   "cell_type": "code",
   "execution_count": 65,
   "metadata": {},
   "outputs": [
    {
     "name": "stdout",
     "output_type": "stream",
     "text": [
      "/home/rakesh/mitolink_Nov2020/pathogen-host-interaction/remapped_7457_HPI/HPIDB\r\n"
     ]
    }
   ],
   "source": [
    "! pwd"
   ]
  },
  {
   "cell_type": "code",
   "execution_count": null,
   "metadata": {},
   "outputs": [],
   "source": []
  }
 ],
 "metadata": {
  "kernelspec": {
   "display_name": "Python 3",
   "language": "python",
   "name": "python3"
  },
  "language_info": {
   "codemirror_mode": {
    "name": "ipython",
    "version": 3
   },
   "file_extension": ".py",
   "mimetype": "text/x-python",
   "name": "python",
   "nbconvert_exporter": "python",
   "pygments_lexer": "ipython3",
   "version": "3.8.5"
  }
 },
 "nbformat": 4,
 "nbformat_minor": 4
}
