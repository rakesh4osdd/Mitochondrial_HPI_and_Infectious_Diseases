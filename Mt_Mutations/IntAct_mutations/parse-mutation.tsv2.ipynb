{
 "cells": [
  {
   "cell_type": "code",
   "execution_count": 1,
   "metadata": {},
   "outputs": [],
   "source": [
    "# check for updated code jupyter file name 'parse-mutation-without-pro'\n",
    "import csv\n",
    "import re"
   ]
  },
  {
   "cell_type": "code",
   "execution_count": 2,
   "metadata": {},
   "outputs": [],
   "source": [
    "input1='mutations.tsv'\n",
    "output='hpi-'+input1\n",
    "filecheck='check-'+input1"
   ]
  },
  {
   "cell_type": "code",
   "execution_count": 3,
   "metadata": {},
   "outputs": [
    {
     "data": {
      "text/plain": [
       "52"
      ]
     },
     "execution_count": 3,
     "metadata": {},
     "output_type": "execute_result"
    }
   ],
   "source": [
    "\n",
    "# set output file for writing\n",
    "csvfile1=open(output, 'w', newline='')\n",
    "fieldnames = ['protein1', 'protein2', 'host', 'partner', 'MI-ID', 'mutation']\n",
    "writer = csv.DictWriter(csvfile1,fieldnames=fieldnames, delimiter='\\t')\n",
    "writer.writeheader()\n",
    "\n",
    "# set output file for writing\n",
    "csvfile2 = open(filecheck, 'w', newline='')\n",
    "fieldnames = [ 'S.No', 'protein1', 'protein2', 'host', 'partner', 'MI-ID', 'mutation']\n",
    "#fieldnames = [ 'S.No']\n",
    "writer2 = csv.DictWriter(csvfile2,fieldnames=fieldnames, delimiter='\\t')\n",
    "writer2.writeheader()"
   ]
  },
  {
   "cell_type": "code",
   "execution_count": 4,
   "metadata": {},
   "outputs": [],
   "source": [
    "with open(input1) as csvfile:\n",
    "    hpi = csv.reader(csvfile, delimiter='\\t')\n",
    "    next(hpi, None)  # skip the headers\n",
    "    for i, row in enumerate(hpi):\n",
    "        ftype=row[5]\n",
    "        protein1=row[7]\n",
    "        host=row[10]\n",
    "        partner=row[11]\n",
    "        plist= re.split('\\|', partner)\n",
    "        pcount=len(plist)\n",
    "        #print (i, len(plist), plist)\n",
    "        #if pcount > 1803 :\n",
    "        for part in plist:\n",
    "            protein2=re.findall(r'uniprotkb:.\\w+', part)\n",
    "            mi = re.findall(r'MI:.\\d+', part) \n",
    "            partner2=re.findall(r'\\ [0-9]\\w+', part)\n",
    "            #print (i, len(plist), plist)\n",
    "            writer2.writerow({'S.No': i, 'protein1': protein1, 'protein2': protein2 , 'host': host, 'partner': partner2 ,'MI-ID' : mi , 'mutation': ftype})\n",
    "            #break\n",
    "    csvfile2.flush()"
   ]
  },
  {
   "cell_type": "code",
   "execution_count": null,
   "metadata": {},
   "outputs": [],
   "source": []
  },
  {
   "cell_type": "code",
   "execution_count": 13,
   "metadata": {},
   "outputs": [
    {
     "name": "stdout",
     "output_type": "stream",
     "text": [
      "12 check-mutations.tsv3\n",
      "1\tuniprotkb:Q1JV40\t['uniprotkb:Q1JV40']\t7719 - cioin\t[' 7719']\t['MI:0326']\tmutation increasing(MI:0382)\n",
      "2\tuniprotkb:P50281\t['uniprotkb:P50281']\t9606 - Homo sapiens\t[' 9606']\t['MI:0326']\tmutation decreasing(MI:0119)\n",
      "2\tuniprotkb:P50281\t['uniprotkb:Q9R064']\t9606 - Homo sapiens\t[' 10116']\t['MI:0326']\tmutation decreasing(MI:0119)\n",
      "3\tuniprotkb:P0DJM0\t['uniprotkb:P12830']\t169963 - Listeria monocytogenes serovar 1/2a (strain ATCC BAA-679 / EGD-e)\t[' 9606']\t['MI:0326']\tmutation increasing(MI:0382)\n",
      "3\tuniprotkb:P0DJM0\t['uniprotkb:P0DJM0']\t169963 - Listeria monocytogenes serovar 1/2a (strain ATCC BAA-679 / EGD-e)\t[' 169963']\t['MI:0326']\tmutation increasing(MI:0382)\n",
      "4\tuniprotkb:O15151\t['uniprotkb:O15151']\t9606 - Homo sapiens\t[' 9606']\t['MI:0326']\tmutation(MI:0118)\n",
      "4\tuniprotkb:O15151\t['uniprotkb:P22314']\t9606 - Homo sapiens\t[' 9606']\t['MI:0326']\tmutation(MI:0118)\n",
      "4\tuniprotkb:O15151\t['uniprotkb:P04637']\t9606 - Homo sapiens\t[' 9606']\t['MI:0326']\tmutation(MI:0118)\n",
      "4\tuniprotkb:O15151\t['uniprotkb:P62837']\t9606 - Homo sapiens\t[' 9606']\t['MI:0326']\tmutation(MI:0118)\n",
      "4\tuniprotkb:O15151\t['uniprotkb:P62990']\t9606 - Homo sapiens\t[' 9913']\t['MI:0326']\tmutation(MI:0118)\n"
     ]
    }
   ],
   "source": [
    "!wc -l check-mutations.tsv3\n",
    "!tail check-mutations.tsv3"
   ]
  },
  {
   "cell_type": "code",
   "execution_count": 6,
   "metadata": {},
   "outputs": [],
   "source": [
    "#!cut -f12 mutations.tsv3\n",
    "#!ls -lh check-mutations.tsv2"
   ]
  },
  {
   "cell_type": "code",
   "execution_count": 5,
   "metadata": {},
   "outputs": [
    {
     "name": "stdout",
     "output_type": "stream",
     "text": [
      "/home/rakesh/mitolink_Nov2020/pathogen-host-interaction/IntAct/host-partner-intraction\r\n"
     ]
    }
   ],
   "source": [
    "#!head -n3 check-mutations.tsv2; tail -n3 check-mutations.tsv2\n",
    "#!wc -l check-mutations.tsv2\n",
    "\n",
    "# run bash command to generate final \n",
    "\"\"\"\n",
    "!pwd\n",
    "! cut -f2- check-mutations.tsv|tr -d '['|tr -d ']'|tr -d \"'\"|sed 's/uniprotkb://g'> check-mutations.hpi.tsv\n",
    "! cp check-mutations.hpi.tsv check-mutation/check-mutations.all.hpi.tsv\n",
    "wc -l check-mutation/check-mutations.all.hpi.tsv\"\"\""
   ]
  },
  {
   "cell_type": "code",
   "execution_count": null,
   "metadata": {},
   "outputs": [],
   "source": [
    "\"\"\"\n",
    "with open(input1) as csvfile:\n",
    "    hpi = csv.reader(csvfile, delimiter='\\t')\n",
    "    next(hpi, None)  # skip the headers\n",
    "    for i, row in enumerate(hpi):\n",
    "        #print (i)\n",
    "        writer2.writerow({'S.No': i})\n",
    "                         #'protein1': protein1, 'protein2': protein2 , 'host': host, 'partner': partner2 ,\\\n",
    "                         #'MI-ID' : mi , 'mutation': ftype})\n",
    "\n",
    "        \n",
    "#fieldnames = [ 'S.No', 'protein1', 'protein2', 'host', 'partner', 'MI-ID', 'mutation']\n",
    "csvfile2.flush()\n",
    "#csvfile2.close()\"\"\""
   ]
  }
 ],
 "metadata": {
  "kernelspec": {
   "display_name": "Python 3",
   "language": "python",
   "name": "python3"
  },
  "language_info": {
   "codemirror_mode": {
    "name": "ipython",
    "version": 3
   },
   "file_extension": ".py",
   "mimetype": "text/x-python",
   "name": "python",
   "nbconvert_exporter": "python",
   "pygments_lexer": "ipython3",
   "version": "3.8.5"
  }
 },
 "nbformat": 4,
 "nbformat_minor": 4
}
