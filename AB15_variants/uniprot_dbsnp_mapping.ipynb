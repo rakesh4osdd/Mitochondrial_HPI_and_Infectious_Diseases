{
 "cells": [
  {
   "cell_type": "code",
   "execution_count": 1,
   "metadata": {},
   "outputs": [],
   "source": [
    "# filter dbsnp output for RefSeq nucleotide mapping"
   ]
  },
  {
   "cell_type": "code",
   "execution_count": 2,
   "metadata": {},
   "outputs": [
    {
     "data": {
      "text/plain": [
       "'1.1.4'"
      ]
     },
     "execution_count": 2,
     "metadata": {},
     "output_type": "execute_result"
    }
   ],
   "source": [
    "import pandas as pd\n",
    "pd.__version__\n",
    "#'1.1.4'"
   ]
  },
  {
   "cell_type": "code",
   "execution_count": 3,
   "metadata": {},
   "outputs": [],
   "source": [
    "# read trascript uniprot mapping file \n",
    "# output file by command $ ./disgenet_snpId_extract.sh which has input file disgenet_snpId550.txt\n",
    "snp_nt= pd.read_csv(\"AB-15_mt-protein-UniProt_GeneName.tsv\", sep='\\t', low_memory=False, header=None)"
   ]
  },
  {
   "cell_type": "code",
   "execution_count": 4,
   "metadata": {},
   "outputs": [
    {
     "name": "stdout",
     "output_type": "stream",
     "text": [
      "(190964, 4)\n"
     ]
    },
    {
     "data": {
      "text/html": [
       "<div>\n",
       "<style scoped>\n",
       "    .dataframe tbody tr th:only-of-type {\n",
       "        vertical-align: middle;\n",
       "    }\n",
       "\n",
       "    .dataframe tbody tr th {\n",
       "        vertical-align: top;\n",
       "    }\n",
       "\n",
       "    .dataframe thead th {\n",
       "        text-align: right;\n",
       "    }\n",
       "</style>\n",
       "<table border=\"1\" class=\"dataframe\">\n",
       "  <thead>\n",
       "    <tr style=\"text-align: right;\">\n",
       "      <th></th>\n",
       "      <th>0</th>\n",
       "      <th>1</th>\n",
       "      <th>2</th>\n",
       "      <th>3</th>\n",
       "    </tr>\n",
       "  </thead>\n",
       "  <tbody>\n",
       "    <tr>\n",
       "      <th>0</th>\n",
       "      <td>O60506</td>\n",
       "      <td>SYNCRIP</td>\n",
       "      <td>rs1583337818</td>\n",
       "      <td>HGVS=NC_000006.12:g.85645779_85645781del,NC_00...</td>\n",
       "    </tr>\n",
       "    <tr>\n",
       "      <th>1</th>\n",
       "      <td>O60506</td>\n",
       "      <td>SYNCRIP</td>\n",
       "      <td>rs1583337813</td>\n",
       "      <td>HGVS=NC_000006.12:g.85645775A&gt;C,NC_000006.11:g...</td>\n",
       "    </tr>\n",
       "    <tr>\n",
       "      <th>2</th>\n",
       "      <td>O60506</td>\n",
       "      <td>SYNCRIP</td>\n",
       "      <td>rs1583337761</td>\n",
       "      <td>HGVS=NC_000006.12:g.85645715_85645716insGG,NC_...</td>\n",
       "    </tr>\n",
       "    <tr>\n",
       "      <th>3</th>\n",
       "      <td>O60506</td>\n",
       "      <td>SYNCRIP</td>\n",
       "      <td>rs1583337683</td>\n",
       "      <td>HGVS=NC_000006.12:g.85645589A&gt;T,NC_000006.11:g...</td>\n",
       "    </tr>\n",
       "    <tr>\n",
       "      <th>4</th>\n",
       "      <td>O60506</td>\n",
       "      <td>SYNCRIP</td>\n",
       "      <td>rs1583337673</td>\n",
       "      <td>HGVS=NC_000006.12:g.85645586A&gt;C,NC_000006.11:g...</td>\n",
       "    </tr>\n",
       "  </tbody>\n",
       "</table>\n",
       "</div>"
      ],
      "text/plain": [
       "        0        1             2  \\\n",
       "0  O60506  SYNCRIP  rs1583337818   \n",
       "1  O60506  SYNCRIP  rs1583337813   \n",
       "2  O60506  SYNCRIP  rs1583337761   \n",
       "3  O60506  SYNCRIP  rs1583337683   \n",
       "4  O60506  SYNCRIP  rs1583337673   \n",
       "\n",
       "                                                   3  \n",
       "0  HGVS=NC_000006.12:g.85645779_85645781del,NC_00...  \n",
       "1  HGVS=NC_000006.12:g.85645775A>C,NC_000006.11:g...  \n",
       "2  HGVS=NC_000006.12:g.85645715_85645716insGG,NC_...  \n",
       "3  HGVS=NC_000006.12:g.85645589A>T,NC_000006.11:g...  \n",
       "4  HGVS=NC_000006.12:g.85645586A>C,NC_000006.11:g...  "
      ]
     },
     "execution_count": 4,
     "metadata": {},
     "output_type": "execute_result"
    }
   ],
   "source": [
    "print(snp_nt.shape)\n",
    "snp_nt.head()"
   ]
  },
  {
   "cell_type": "code",
   "execution_count": 5,
   "metadata": {},
   "outputs": [
    {
     "name": "stdout",
     "output_type": "stream",
     "text": [
      "(190964, 4)\n"
     ]
    },
    {
     "data": {
      "text/html": [
       "<div>\n",
       "<style scoped>\n",
       "    .dataframe tbody tr th:only-of-type {\n",
       "        vertical-align: middle;\n",
       "    }\n",
       "\n",
       "    .dataframe tbody tr th {\n",
       "        vertical-align: top;\n",
       "    }\n",
       "\n",
       "    .dataframe thead th {\n",
       "        text-align: right;\n",
       "    }\n",
       "</style>\n",
       "<table border=\"1\" class=\"dataframe\">\n",
       "  <thead>\n",
       "    <tr style=\"text-align: right;\">\n",
       "      <th></th>\n",
       "      <th>UniProtKB</th>\n",
       "      <th>gene_name</th>\n",
       "      <th>snpId</th>\n",
       "      <th>refseq_nt_variant</th>\n",
       "    </tr>\n",
       "  </thead>\n",
       "  <tbody>\n",
       "    <tr>\n",
       "      <th>0</th>\n",
       "      <td>O60506</td>\n",
       "      <td>SYNCRIP</td>\n",
       "      <td>rs1583337818</td>\n",
       "      <td>HGVS=NC_000006.12:g.85645779_85645781del,NC_00...</td>\n",
       "    </tr>\n",
       "    <tr>\n",
       "      <th>1</th>\n",
       "      <td>O60506</td>\n",
       "      <td>SYNCRIP</td>\n",
       "      <td>rs1583337813</td>\n",
       "      <td>HGVS=NC_000006.12:g.85645775A&gt;C,NC_000006.11:g...</td>\n",
       "    </tr>\n",
       "    <tr>\n",
       "      <th>2</th>\n",
       "      <td>O60506</td>\n",
       "      <td>SYNCRIP</td>\n",
       "      <td>rs1583337761</td>\n",
       "      <td>HGVS=NC_000006.12:g.85645715_85645716insGG,NC_...</td>\n",
       "    </tr>\n",
       "    <tr>\n",
       "      <th>3</th>\n",
       "      <td>O60506</td>\n",
       "      <td>SYNCRIP</td>\n",
       "      <td>rs1583337683</td>\n",
       "      <td>HGVS=NC_000006.12:g.85645589A&gt;T,NC_000006.11:g...</td>\n",
       "    </tr>\n",
       "    <tr>\n",
       "      <th>4</th>\n",
       "      <td>O60506</td>\n",
       "      <td>SYNCRIP</td>\n",
       "      <td>rs1583337673</td>\n",
       "      <td>HGVS=NC_000006.12:g.85645586A&gt;C,NC_000006.11:g...</td>\n",
       "    </tr>\n",
       "  </tbody>\n",
       "</table>\n",
       "</div>"
      ],
      "text/plain": [
       "  UniProtKB gene_name         snpId  \\\n",
       "0    O60506   SYNCRIP  rs1583337818   \n",
       "1    O60506   SYNCRIP  rs1583337813   \n",
       "2    O60506   SYNCRIP  rs1583337761   \n",
       "3    O60506   SYNCRIP  rs1583337683   \n",
       "4    O60506   SYNCRIP  rs1583337673   \n",
       "\n",
       "                                   refseq_nt_variant  \n",
       "0  HGVS=NC_000006.12:g.85645779_85645781del,NC_00...  \n",
       "1  HGVS=NC_000006.12:g.85645775A>C,NC_000006.11:g...  \n",
       "2  HGVS=NC_000006.12:g.85645715_85645716insGG,NC_...  \n",
       "3  HGVS=NC_000006.12:g.85645589A>T,NC_000006.11:g...  \n",
       "4  HGVS=NC_000006.12:g.85645586A>C,NC_000006.11:g...  "
      ]
     },
     "execution_count": 5,
     "metadata": {},
     "output_type": "execute_result"
    }
   ],
   "source": [
    "snp_nt.columns=['UniProtKB', 'gene_name','snpId','refseq_nt_variant']\n",
    "print(snp_nt.shape)\n",
    "snp_nt.head()"
   ]
  },
  {
   "cell_type": "code",
   "execution_count": 6,
   "metadata": {
    "scrolled": true
   },
   "outputs": [],
   "source": [
    "#split column\n",
    "snp_nt['refseq_nt_variant'] = snp_nt['refseq_nt_variant'].str.split('|',expand=True)[0].str.split('=',expand=True)[1]"
   ]
  },
  {
   "cell_type": "code",
   "execution_count": 7,
   "metadata": {},
   "outputs": [
    {
     "data": {
      "text/html": [
       "<div>\n",
       "<style scoped>\n",
       "    .dataframe tbody tr th:only-of-type {\n",
       "        vertical-align: middle;\n",
       "    }\n",
       "\n",
       "    .dataframe tbody tr th {\n",
       "        vertical-align: top;\n",
       "    }\n",
       "\n",
       "    .dataframe thead th {\n",
       "        text-align: right;\n",
       "    }\n",
       "</style>\n",
       "<table border=\"1\" class=\"dataframe\">\n",
       "  <thead>\n",
       "    <tr style=\"text-align: right;\">\n",
       "      <th></th>\n",
       "      <th>UniProtKB</th>\n",
       "      <th>gene_name</th>\n",
       "      <th>snpId</th>\n",
       "      <th>refseq_nt_variant</th>\n",
       "    </tr>\n",
       "  </thead>\n",
       "  <tbody>\n",
       "    <tr>\n",
       "      <th>0</th>\n",
       "      <td>O60506</td>\n",
       "      <td>SYNCRIP</td>\n",
       "      <td>rs1583337818</td>\n",
       "      <td>NC_000006.12:g.85645779_85645781del,NC_000006....</td>\n",
       "    </tr>\n",
       "    <tr>\n",
       "      <th>1</th>\n",
       "      <td>O60506</td>\n",
       "      <td>SYNCRIP</td>\n",
       "      <td>rs1583337813</td>\n",
       "      <td>NC_000006.12:g.85645775A&gt;C,NC_000006.11:g.8635...</td>\n",
       "    </tr>\n",
       "    <tr>\n",
       "      <th>2</th>\n",
       "      <td>O60506</td>\n",
       "      <td>SYNCRIP</td>\n",
       "      <td>rs1583337761</td>\n",
       "      <td>NC_000006.12:g.85645715_85645716insGG,NC_00000...</td>\n",
       "    </tr>\n",
       "    <tr>\n",
       "      <th>3</th>\n",
       "      <td>O60506</td>\n",
       "      <td>SYNCRIP</td>\n",
       "      <td>rs1583337683</td>\n",
       "      <td>NC_000006.12:g.85645589A&gt;T,NC_000006.11:g.8635...</td>\n",
       "    </tr>\n",
       "    <tr>\n",
       "      <th>4</th>\n",
       "      <td>O60506</td>\n",
       "      <td>SYNCRIP</td>\n",
       "      <td>rs1583337673</td>\n",
       "      <td>NC_000006.12:g.85645586A&gt;C,NC_000006.11:g.8635...</td>\n",
       "    </tr>\n",
       "  </tbody>\n",
       "</table>\n",
       "</div>"
      ],
      "text/plain": [
       "  UniProtKB gene_name         snpId  \\\n",
       "0    O60506   SYNCRIP  rs1583337818   \n",
       "1    O60506   SYNCRIP  rs1583337813   \n",
       "2    O60506   SYNCRIP  rs1583337761   \n",
       "3    O60506   SYNCRIP  rs1583337683   \n",
       "4    O60506   SYNCRIP  rs1583337673   \n",
       "\n",
       "                                   refseq_nt_variant  \n",
       "0  NC_000006.12:g.85645779_85645781del,NC_000006....  \n",
       "1  NC_000006.12:g.85645775A>C,NC_000006.11:g.8635...  \n",
       "2  NC_000006.12:g.85645715_85645716insGG,NC_00000...  \n",
       "3  NC_000006.12:g.85645589A>T,NC_000006.11:g.8635...  \n",
       "4  NC_000006.12:g.85645586A>C,NC_000006.11:g.8635...  "
      ]
     },
     "execution_count": 7,
     "metadata": {},
     "output_type": "execute_result"
    }
   ],
   "source": [
    "snp_nt.head()"
   ]
  },
  {
   "cell_type": "code",
   "execution_count": 8,
   "metadata": {},
   "outputs": [],
   "source": [
    "#split column\n",
    "snp_nt=snp_nt.assign(refseq_nt_variant=snp_nt['refseq_nt_variant'].str.split(',')).explode('refseq_nt_variant')"
   ]
  },
  {
   "cell_type": "code",
   "execution_count": 9,
   "metadata": {},
   "outputs": [
    {
     "data": {
      "text/plain": [
       "(1433526, 4)"
      ]
     },
     "execution_count": 9,
     "metadata": {},
     "output_type": "execute_result"
    }
   ],
   "source": [
    "snp_nt.shape"
   ]
  },
  {
   "cell_type": "code",
   "execution_count": 10,
   "metadata": {},
   "outputs": [],
   "source": [
    "snp_nt['refseq_nt_id'] = snp_nt['refseq_nt_variant'].str.split(':',expand=True)[0]"
   ]
  },
  {
   "cell_type": "code",
   "execution_count": 11,
   "metadata": {},
   "outputs": [
    {
     "name": "stdout",
     "output_type": "stream",
     "text": [
      "(1433526, 5)\n"
     ]
    },
    {
     "data": {
      "text/html": [
       "<div>\n",
       "<style scoped>\n",
       "    .dataframe tbody tr th:only-of-type {\n",
       "        vertical-align: middle;\n",
       "    }\n",
       "\n",
       "    .dataframe tbody tr th {\n",
       "        vertical-align: top;\n",
       "    }\n",
       "\n",
       "    .dataframe thead th {\n",
       "        text-align: right;\n",
       "    }\n",
       "</style>\n",
       "<table border=\"1\" class=\"dataframe\">\n",
       "  <thead>\n",
       "    <tr style=\"text-align: right;\">\n",
       "      <th></th>\n",
       "      <th>UniProtKB</th>\n",
       "      <th>gene_name</th>\n",
       "      <th>snpId</th>\n",
       "      <th>refseq_nt_variant</th>\n",
       "      <th>refseq_nt_id</th>\n",
       "    </tr>\n",
       "  </thead>\n",
       "  <tbody>\n",
       "    <tr>\n",
       "      <th>0</th>\n",
       "      <td>O60506</td>\n",
       "      <td>SYNCRIP</td>\n",
       "      <td>rs1583337818</td>\n",
       "      <td>NC_000006.12:g.85645779_85645781del</td>\n",
       "      <td>NC_000006.12</td>\n",
       "    </tr>\n",
       "    <tr>\n",
       "      <th>0</th>\n",
       "      <td>O60506</td>\n",
       "      <td>SYNCRIP</td>\n",
       "      <td>rs1583337818</td>\n",
       "      <td>NC_000006.11:g.86355497_86355499del</td>\n",
       "      <td>NC_000006.11</td>\n",
       "    </tr>\n",
       "    <tr>\n",
       "      <th>0</th>\n",
       "      <td>O60506</td>\n",
       "      <td>SYNCRIP</td>\n",
       "      <td>rs1583337818</td>\n",
       "      <td>NG_031848.1:g.2546_2548del</td>\n",
       "      <td>NG_031848.1</td>\n",
       "    </tr>\n",
       "    <tr>\n",
       "      <th>1</th>\n",
       "      <td>O60506</td>\n",
       "      <td>SYNCRIP</td>\n",
       "      <td>rs1583337813</td>\n",
       "      <td>NC_000006.12:g.85645775A&gt;C</td>\n",
       "      <td>NC_000006.12</td>\n",
       "    </tr>\n",
       "    <tr>\n",
       "      <th>1</th>\n",
       "      <td>O60506</td>\n",
       "      <td>SYNCRIP</td>\n",
       "      <td>rs1583337813</td>\n",
       "      <td>NC_000006.11:g.86355493A&gt;C</td>\n",
       "      <td>NC_000006.11</td>\n",
       "    </tr>\n",
       "  </tbody>\n",
       "</table>\n",
       "</div>"
      ],
      "text/plain": [
       "  UniProtKB gene_name         snpId                    refseq_nt_variant  \\\n",
       "0    O60506   SYNCRIP  rs1583337818  NC_000006.12:g.85645779_85645781del   \n",
       "0    O60506   SYNCRIP  rs1583337818  NC_000006.11:g.86355497_86355499del   \n",
       "0    O60506   SYNCRIP  rs1583337818           NG_031848.1:g.2546_2548del   \n",
       "1    O60506   SYNCRIP  rs1583337813           NC_000006.12:g.85645775A>C   \n",
       "1    O60506   SYNCRIP  rs1583337813           NC_000006.11:g.86355493A>C   \n",
       "\n",
       "   refseq_nt_id  \n",
       "0  NC_000006.12  \n",
       "0  NC_000006.11  \n",
       "0   NG_031848.1  \n",
       "1  NC_000006.12  \n",
       "1  NC_000006.11  "
      ]
     },
     "execution_count": 11,
     "metadata": {},
     "output_type": "execute_result"
    }
   ],
   "source": [
    "print(snp_nt.shape)\n",
    "snp_nt.head()"
   ]
  },
  {
   "cell_type": "code",
   "execution_count": 12,
   "metadata": {},
   "outputs": [],
   "source": [
    "#map uniprot - refseq_nt mapping list\n",
    "uid_nt= pd.read_csv(\"../AB-15_mt-protein-UniProt_RefSeq-nt.txt\", sep='\\t', low_memory=False)"
   ]
  },
  {
   "cell_type": "code",
   "execution_count": 13,
   "metadata": {},
   "outputs": [],
   "source": [
    "uid_nt.columns=['UniProtKB', 'refseq_nt_id']"
   ]
  },
  {
   "cell_type": "code",
   "execution_count": 14,
   "metadata": {},
   "outputs": [
    {
     "name": "stdout",
     "output_type": "stream",
     "text": [
      "(62, 2)\n"
     ]
    },
    {
     "data": {
      "text/html": [
       "<div>\n",
       "<style scoped>\n",
       "    .dataframe tbody tr th:only-of-type {\n",
       "        vertical-align: middle;\n",
       "    }\n",
       "\n",
       "    .dataframe tbody tr th {\n",
       "        vertical-align: top;\n",
       "    }\n",
       "\n",
       "    .dataframe thead th {\n",
       "        text-align: right;\n",
       "    }\n",
       "</style>\n",
       "<table border=\"1\" class=\"dataframe\">\n",
       "  <thead>\n",
       "    <tr style=\"text-align: right;\">\n",
       "      <th></th>\n",
       "      <th>UniProtKB</th>\n",
       "      <th>refseq_nt_id</th>\n",
       "    </tr>\n",
       "  </thead>\n",
       "  <tbody>\n",
       "    <tr>\n",
       "      <th>0</th>\n",
       "      <td>O60506</td>\n",
       "      <td>NM_001159673.1</td>\n",
       "    </tr>\n",
       "    <tr>\n",
       "      <th>1</th>\n",
       "      <td>O60506</td>\n",
       "      <td>NM_001159674.1</td>\n",
       "    </tr>\n",
       "    <tr>\n",
       "      <th>2</th>\n",
       "      <td>O60506</td>\n",
       "      <td>NM_001159675.1</td>\n",
       "    </tr>\n",
       "    <tr>\n",
       "      <th>3</th>\n",
       "      <td>O60506</td>\n",
       "      <td>NM_001159676.1</td>\n",
       "    </tr>\n",
       "    <tr>\n",
       "      <th>4</th>\n",
       "      <td>O60506</td>\n",
       "      <td>NM_001159677.1</td>\n",
       "    </tr>\n",
       "  </tbody>\n",
       "</table>\n",
       "</div>"
      ],
      "text/plain": [
       "  UniProtKB    refseq_nt_id\n",
       "0    O60506  NM_001159673.1\n",
       "1    O60506  NM_001159674.1\n",
       "2    O60506  NM_001159675.1\n",
       "3    O60506  NM_001159676.1\n",
       "4    O60506  NM_001159677.1"
      ]
     },
     "execution_count": 14,
     "metadata": {},
     "output_type": "execute_result"
    }
   ],
   "source": [
    "print(uid_nt.shape)\n",
    "uid_nt.head()"
   ]
  },
  {
   "cell_type": "code",
   "execution_count": 15,
   "metadata": {},
   "outputs": [],
   "source": [
    "#merge mt_proteins with DisGeNet\n",
    "uid_snp_nt = pd.merge(uid_nt, snp_nt, on=('refseq_nt_id','UniProtKB'))"
   ]
  },
  {
   "cell_type": "code",
   "execution_count": 16,
   "metadata": {},
   "outputs": [
    {
     "name": "stdout",
     "output_type": "stream",
     "text": [
      "(127866, 5)\n"
     ]
    },
    {
     "data": {
      "text/html": [
       "<div>\n",
       "<style scoped>\n",
       "    .dataframe tbody tr th:only-of-type {\n",
       "        vertical-align: middle;\n",
       "    }\n",
       "\n",
       "    .dataframe tbody tr th {\n",
       "        vertical-align: top;\n",
       "    }\n",
       "\n",
       "    .dataframe thead th {\n",
       "        text-align: right;\n",
       "    }\n",
       "</style>\n",
       "<table border=\"1\" class=\"dataframe\">\n",
       "  <thead>\n",
       "    <tr style=\"text-align: right;\">\n",
       "      <th></th>\n",
       "      <th>UniProtKB</th>\n",
       "      <th>refseq_nt_id</th>\n",
       "      <th>gene_name</th>\n",
       "      <th>snpId</th>\n",
       "      <th>refseq_nt_variant</th>\n",
       "    </tr>\n",
       "  </thead>\n",
       "  <tbody>\n",
       "    <tr>\n",
       "      <th>0</th>\n",
       "      <td>O60506</td>\n",
       "      <td>NM_001159673.1</td>\n",
       "      <td>SYNCRIP</td>\n",
       "      <td>rs1583331316</td>\n",
       "      <td>NM_001159673.1:c.-152G&gt;A</td>\n",
       "    </tr>\n",
       "    <tr>\n",
       "      <th>1</th>\n",
       "      <td>O60506</td>\n",
       "      <td>NM_001159673.1</td>\n",
       "      <td>SYNCRIP</td>\n",
       "      <td>rs1583241367</td>\n",
       "      <td>NM_001159673.1:c.1094A&gt;G</td>\n",
       "    </tr>\n",
       "    <tr>\n",
       "      <th>2</th>\n",
       "      <td>O60506</td>\n",
       "      <td>NM_001159673.1</td>\n",
       "      <td>SYNCRIP</td>\n",
       "      <td>rs1583240864</td>\n",
       "      <td>NM_001159673.1:c.1222G&gt;T</td>\n",
       "    </tr>\n",
       "    <tr>\n",
       "      <th>3</th>\n",
       "      <td>O60506</td>\n",
       "      <td>NM_001159673.1</td>\n",
       "      <td>SYNCRIP</td>\n",
       "      <td>rs1583233993</td>\n",
       "      <td>NM_001159673.1:c.*76A&gt;G</td>\n",
       "    </tr>\n",
       "    <tr>\n",
       "      <th>4</th>\n",
       "      <td>O60506</td>\n",
       "      <td>NM_001159673.1</td>\n",
       "      <td>SYNCRIP</td>\n",
       "      <td>rs1583233911</td>\n",
       "      <td>NM_001159673.1:c.*100C&gt;G</td>\n",
       "    </tr>\n",
       "  </tbody>\n",
       "</table>\n",
       "</div>"
      ],
      "text/plain": [
       "  UniProtKB    refseq_nt_id gene_name         snpId         refseq_nt_variant\n",
       "0    O60506  NM_001159673.1   SYNCRIP  rs1583331316  NM_001159673.1:c.-152G>A\n",
       "1    O60506  NM_001159673.1   SYNCRIP  rs1583241367  NM_001159673.1:c.1094A>G\n",
       "2    O60506  NM_001159673.1   SYNCRIP  rs1583240864  NM_001159673.1:c.1222G>T\n",
       "3    O60506  NM_001159673.1   SYNCRIP  rs1583233993   NM_001159673.1:c.*76A>G\n",
       "4    O60506  NM_001159673.1   SYNCRIP  rs1583233911  NM_001159673.1:c.*100C>G"
      ]
     },
     "execution_count": 16,
     "metadata": {},
     "output_type": "execute_result"
    }
   ],
   "source": [
    "print(uid_snp_nt.shape)\n",
    "uid_snp_nt.head()"
   ]
  },
  {
   "cell_type": "code",
   "execution_count": 17,
   "metadata": {},
   "outputs": [
    {
     "data": {
      "text/plain": [
       "UniProtKB                15\n",
       "refseq_nt_id             52\n",
       "gene_name                15\n",
       "snpId                 24927\n",
       "refseq_nt_variant    125589\n",
       "dtype: int64"
      ]
     },
     "execution_count": 17,
     "metadata": {},
     "output_type": "execute_result"
    }
   ],
   "source": [
    "uid_snp_nt.nunique()"
   ]
  },
  {
   "cell_type": "code",
   "execution_count": 18,
   "metadata": {},
   "outputs": [],
   "source": [
    "# remove duplicates\n",
    "uid_snp_nt = uid_snp_nt.drop_duplicates()"
   ]
  },
  {
   "cell_type": "code",
   "execution_count": 19,
   "metadata": {},
   "outputs": [
    {
     "name": "stdout",
     "output_type": "stream",
     "text": [
      "UniProtKB                15\n",
      "refseq_nt_id             52\n",
      "gene_name                15\n",
      "snpId                 24927\n",
      "refseq_nt_variant    125589\n",
      "dtype: int64 \n",
      " (125589, 5)\n"
     ]
    }
   ],
   "source": [
    "print (uid_snp_nt.nunique(),'\\n', uid_snp_nt.shape)"
   ]
  },
  {
   "cell_type": "code",
   "execution_count": 20,
   "metadata": {},
   "outputs": [],
   "source": [
    "#save uniprot refseq mapping to dbSNP\n",
    "uid_snp_nt.to_csv('AB15_uniprot_dbsnp.tsv', sep='\\t', index=False, header=True)"
   ]
  },
  {
   "cell_type": "code",
   "execution_count": 23,
   "metadata": {},
   "outputs": [],
   "source": [
    "#save uniprot mapped dbSNP id only\n",
    "uid_snp_nt['snpId'].drop_duplicates().to_csv('AB15_uniprot_dbsnp_id.txt', sep='\\t', index=False, header=True)"
   ]
  },
  {
   "cell_type": "code",
   "execution_count": 26,
   "metadata": {},
   "outputs": [],
   "source": [
    "! wc -l AB15_uniprot_dbsnp_id.txt AB15_uniprot_dbsnp.tsv"
   ]
  },
  {
   "cell_type": "code",
   "execution_count": 25,
   "metadata": {},
   "outputs": [
    {
     "name": "stdout",
     "output_type": "stream",
     "text": [
      "/home/rakesh/Host-Pathogen_Interactions_in_Mitochondrial_and_Infectious_Diseases/AB15_dataset/UniProt_dbSNP\r\n"
     ]
    }
   ],
   "source": [
    "! pwd"
   ]
  },
  {
   "cell_type": "code",
   "execution_count": null,
   "metadata": {},
   "outputs": [],
   "source": []
  }
 ],
 "metadata": {
  "kernelspec": {
   "display_name": "Python 3",
   "language": "python",
   "name": "python3"
  },
  "language_info": {
   "codemirror_mode": {
    "name": "ipython",
    "version": 3
   },
   "file_extension": ".py",
   "mimetype": "text/x-python",
   "name": "python",
   "nbconvert_exporter": "python",
   "pygments_lexer": "ipython3",
   "version": "3.8.5"
  }
 },
 "nbformat": 4,
 "nbformat_minor": 4
}
